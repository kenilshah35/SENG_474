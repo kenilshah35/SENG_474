{
 "cells": [
  {
   "cell_type": "markdown",
   "metadata": {
    "id": "Id6XPHOUTIqT"
   },
   "source": [
    "# Environmnet setup (Jupyter notebooks)\n",
    "**Data Mining Lab1, University of Victoria, Spring 2022** <br>\n",
    "\n",
    "To start for the lab webpage, first connect to the VPN and then do:\n",
    "**ssh UVicUserName@jupyter.seng.uvic.ca** by using Command Line\n",
    "1. Use UVic SENG Lab https://jupyter.seng.uvic.ca via UVic VPN \n",
    "2. open  labs.engr.uvic.ca and select “Engineering Windows Undergraduate Lab”\n",
    "\n",
    "**Basic Python3 dependencies for Lab1** <br>\n",
    "1. pip3 install numpy https://numpy.org/doc/stable/reference/\n",
    "2. pip3 install pandas https://pandas.pydata.org/docs/getting_started/index.html#getting-started\n",
    "3. pip3 install sklearn https://scikit-learn.org/stable/tutorial/basic/tutorial.html\n",
    "4. pip3 install matplotlib https://matplotlib.org/tutorials/introductory/pyplot.html\n",
    "5. pip3 install pydotplus https://pydotplus.readthedocs.io/\n",
    "6. pip3 install six https://six.readthedocs.io/\n",
    "\n",
    "##  Numpy "
   ]
  },
  {
   "cell_type": "code",
   "execution_count": 1,
   "metadata": {
    "colab": {
     "base_uri": "https://localhost:8080/"
    },
    "executionInfo": {
     "elapsed": 18344,
     "status": "ok",
     "timestamp": 1611279114895,
     "user": {
      "displayName": "Keon Julee Paris",
      "photoUrl": "https://lh3.googleusercontent.com/a-/AOh14GiOmRCbWmMp_76J8615EXuXLQ8zHcg0u2us2Iaj=s64",
      "userId": "05794007517284268052"
     },
     "user_tz": 480
    },
    "id": "b6uyQ9GDTKh2",
    "outputId": "44f5189f-065d-46c4-e713-c551331adeef"
   },
   "outputs": [],
   "source": [
    "# installing basic python3 library for Lab1\n",
    "# !pip freeze\n",
    "# !pip3 install numpy\n",
    "# !pip3 install pandas\n",
    "# !pip3 install sklearn\n",
    "# !pip3 install matplotlib"
   ]
  },
  {
   "cell_type": "markdown",
   "metadata": {
    "id": "myeWmtGtTIqW"
   },
   "source": [
    "# Array\n",
    "--\n",
    "\n",
    "The main entity in Numpy is the \"array\". <br>\n",
    "A two-dimensional array is also called a matrix.\n",
    "\n",
    "**Dimensions, shapes and sizes (properties)** <br>\n",
    "ndim = the number of dimensions <br>\n",
    "shape = the dimensions (in a tuple) <br>\n",
    "size = number of elements (= the product of the numbers in the shape)"
   ]
  },
  {
   "cell_type": "code",
   "execution_count": 2,
   "metadata": {
    "colab": {
     "base_uri": "https://localhost:8080/"
    },
    "executionInfo": {
     "elapsed": 16265,
     "status": "ok",
     "timestamp": 1611188372333,
     "user": {
      "displayName": "Keon Julee Paris",
      "photoUrl": "https://lh3.googleusercontent.com/a-/AOh14GiOmRCbWmMp_76J8615EXuXLQ8zHcg0u2us2Iaj=s64",
      "userId": "05794007517284268052"
     },
     "user_tz": 480
    },
    "id": "y21GjbGdTIqX",
    "outputId": "e0adafdd-0fa7-40cd-c73d-1385555538d9"
   },
   "outputs": [
    {
     "data": {
      "text/plain": [
       "3"
      ]
     },
     "execution_count": 2,
     "metadata": {},
     "output_type": "execute_result"
    }
   ],
   "source": [
    "import numpy as np # import library \n",
    "a = np.array([1, 2, 3])     # A 1-dimensional array\n",
    "a\n",
    "a.ndim\n",
    "a.shape\n",
    "a.size"
   ]
  },
  {
   "cell_type": "code",
   "execution_count": 3,
   "metadata": {
    "colab": {
     "base_uri": "https://localhost:8080/"
    },
    "executionInfo": {
     "elapsed": 16258,
     "status": "ok",
     "timestamp": 1611188372334,
     "user": {
      "displayName": "Keon Julee Paris",
      "photoUrl": "https://lh3.googleusercontent.com/a-/AOh14GiOmRCbWmMp_76J8615EXuXLQ8zHcg0u2us2Iaj=s64",
      "userId": "05794007517284268052"
     },
     "user_tz": 480
    },
    "id": "cRzK4EfUTIqY",
    "outputId": "e473f36c-8667-4c88-8bde-c80b9def22d5"
   },
   "outputs": [
    {
     "data": {
      "text/plain": [
       "3"
      ]
     },
     "execution_count": 3,
     "metadata": {},
     "output_type": "execute_result"
    }
   ],
   "source": [
    "b = np.array([[1, 2, 3]])   # A row vector\n",
    "b\n",
    "b.ndim\n",
    "b.shape\n",
    "b.size"
   ]
  },
  {
   "cell_type": "code",
   "execution_count": 4,
   "metadata": {
    "colab": {
     "base_uri": "https://localhost:8080/"
    },
    "executionInfo": {
     "elapsed": 16250,
     "status": "ok",
     "timestamp": 1611188372334,
     "user": {
      "displayName": "Keon Julee Paris",
      "photoUrl": "https://lh3.googleusercontent.com/a-/AOh14GiOmRCbWmMp_76J8615EXuXLQ8zHcg0u2us2Iaj=s64",
      "userId": "05794007517284268052"
     },
     "user_tz": 480
    },
    "id": "1YDLnrkmTIqZ",
    "outputId": "3e104cc9-a719-4a58-d1e5-076c74868e71"
   },
   "outputs": [
    {
     "data": {
      "text/plain": [
       "3"
      ]
     },
     "execution_count": 4,
     "metadata": {},
     "output_type": "execute_result"
    }
   ],
   "source": [
    "c = np.array([[1], [2], [3]])   # A column vector\n",
    "c\n",
    "c.ndim\n",
    "c.shape\n",
    "c.size"
   ]
  },
  {
   "cell_type": "code",
   "execution_count": 5,
   "metadata": {
    "colab": {
     "base_uri": "https://localhost:8080/"
    },
    "executionInfo": {
     "elapsed": 16242,
     "status": "ok",
     "timestamp": 1611188372335,
     "user": {
      "displayName": "Keon Julee Paris",
      "photoUrl": "https://lh3.googleusercontent.com/a-/AOh14GiOmRCbWmMp_76J8615EXuXLQ8zHcg0u2us2Iaj=s64",
      "userId": "05794007517284268052"
     },
     "user_tz": 480
    },
    "id": "sm7VSEGITIqZ",
    "outputId": "dd2f4d89-659b-43b1-d716-c82a73dd165e"
   },
   "outputs": [
    {
     "data": {
      "text/plain": [
       "6"
      ]
     },
     "execution_count": 5,
     "metadata": {},
     "output_type": "execute_result"
    }
   ],
   "source": [
    "d = np.array([\n",
    "[1,2,3],\n",
    "[4,5,6]])   # A 2x3 matrix\n",
    "d\n",
    "d.ndim\n",
    "d.shape\n",
    "d.size"
   ]
  },
  {
   "cell_type": "code",
   "execution_count": 6,
   "metadata": {
    "colab": {
     "base_uri": "https://localhost:8080/"
    },
    "executionInfo": {
     "elapsed": 16461,
     "status": "ok",
     "timestamp": 1611188372563,
     "user": {
      "displayName": "Keon Julee Paris",
      "photoUrl": "https://lh3.googleusercontent.com/a-/AOh14GiOmRCbWmMp_76J8615EXuXLQ8zHcg0u2us2Iaj=s64",
      "userId": "05794007517284268052"
     },
     "user_tz": 480
    },
    "id": "T3EwGFGzTIqZ",
    "outputId": "30e3dc8e-f470-4562-886d-0cea075f06fb"
   },
   "outputs": [
    {
     "data": {
      "text/plain": [
       "8"
      ]
     },
     "execution_count": 6,
     "metadata": {},
     "output_type": "execute_result"
    }
   ],
   "source": [
    "e = np.array([[[1,2],[3,4]],[[5,6],[7,8]]])  # A 3-D array\n",
    "e\n",
    "e.ndim\n",
    "e.shape\n",
    "e.size"
   ]
  },
  {
   "cell_type": "code",
   "execution_count": 7,
   "metadata": {
    "colab": {
     "base_uri": "https://localhost:8080/"
    },
    "executionInfo": {
     "elapsed": 16455,
     "status": "ok",
     "timestamp": 1611188372564,
     "user": {
      "displayName": "Keon Julee Paris",
      "photoUrl": "https://lh3.googleusercontent.com/a-/AOh14GiOmRCbWmMp_76J8615EXuXLQ8zHcg0u2us2Iaj=s64",
      "userId": "05794007517284268052"
     },
     "user_tz": 480
    },
    "id": "TLfDEhooTIqa",
    "outputId": "10cb6e24-a520-4513-fd35-329e2e5ec8fa"
   },
   "outputs": [
    {
     "name": "stdout",
     "output_type": "stream",
     "text": [
      "[[0. 0. 0. 0.]\n",
      " [0. 0. 0. 0.]\n",
      " [0. 0. 0. 0.]]\n"
     ]
    }
   ],
   "source": [
    "# Create a 3x4 array of zeros \n",
    "## Zeros and Ones are useful for targets of binary classification \n",
    "x = np.zeros((3,4))\n",
    "print(x)"
   ]
  },
  {
   "cell_type": "code",
   "execution_count": 8,
   "metadata": {
    "colab": {
     "base_uri": "https://localhost:8080/"
    },
    "executionInfo": {
     "elapsed": 16447,
     "status": "ok",
     "timestamp": 1611188372564,
     "user": {
      "displayName": "Keon Julee Paris",
      "photoUrl": "https://lh3.googleusercontent.com/a-/AOh14GiOmRCbWmMp_76J8615EXuXLQ8zHcg0u2us2Iaj=s64",
      "userId": "05794007517284268052"
     },
     "user_tz": 480
    },
    "id": "0Mi2sqXJTIqa",
    "outputId": "2e6e1a37-fc46-4393-9c12-b407d4688bad"
   },
   "outputs": [
    {
     "name": "stdout",
     "output_type": "stream",
     "text": [
      "[[1. 1. 1. 1.]\n",
      " [1. 1. 1. 1.]\n",
      " [1. 1. 1. 1.]]\n"
     ]
    }
   ],
   "source": [
    "# Create a 3x4 array of ones\n",
    "x = np.ones((3,4))\n",
    "print(x)"
   ]
  },
  {
   "cell_type": "code",
   "execution_count": 9,
   "metadata": {
    "colab": {
     "base_uri": "https://localhost:8080/"
    },
    "executionInfo": {
     "elapsed": 16440,
     "status": "ok",
     "timestamp": 1611188372565,
     "user": {
      "displayName": "Keon Julee Paris",
      "photoUrl": "https://lh3.googleusercontent.com/a-/AOh14GiOmRCbWmMp_76J8615EXuXLQ8zHcg0u2us2Iaj=s64",
      "userId": "05794007517284268052"
     },
     "user_tz": 480
    },
    "id": "Cvs4_Nx1TIqb",
    "outputId": "b7067b12-66d1-44ba-c167-8b6d6d2109c0"
   },
   "outputs": [
    {
     "data": {
      "text/plain": [
       "5"
      ]
     },
     "execution_count": 9,
     "metadata": {},
     "output_type": "execute_result"
    }
   ],
   "source": [
    "# We can get a specific element on an array by using indices\n",
    "d\n",
    "d[0,2]\n",
    "d[1,1]"
   ]
  },
  {
   "cell_type": "markdown",
   "metadata": {
    "id": "HEGWW79cTIqb"
   },
   "source": [
    "Matrix Math\n",
    "--"
   ]
  },
  {
   "cell_type": "code",
   "execution_count": 10,
   "metadata": {
    "id": "lQtUvW0kTIqb"
   },
   "outputs": [],
   "source": [
    "x = np.array( [[1,2],[3,4]] )\n",
    "y = np.array( [[5,6],[7,8]] )"
   ]
  },
  {
   "cell_type": "code",
   "execution_count": 11,
   "metadata": {
    "colab": {
     "base_uri": "https://localhost:8080/"
    },
    "executionInfo": {
     "elapsed": 16427,
     "status": "ok",
     "timestamp": 1611188372566,
     "user": {
      "displayName": "Keon Julee Paris",
      "photoUrl": "https://lh3.googleusercontent.com/a-/AOh14GiOmRCbWmMp_76J8615EXuXLQ8zHcg0u2us2Iaj=s64",
      "userId": "05794007517284268052"
     },
     "user_tz": 480
    },
    "id": "3bfkuvCWTIqb",
    "outputId": "ad23a592-e991-4f2b-8892-79ff3c4373c7"
   },
   "outputs": [
    {
     "name": "stdout",
     "output_type": "stream",
     "text": [
      "x+y = \n",
      " [[ 6  8]\n",
      " [10 12]] \n",
      "\n",
      "x-y = \n",
      " [[-4 -4]\n",
      " [-4 -4]] \n",
      "\n",
      "x*y = \n",
      " [[ 5 12]\n",
      " [21 32]] \n",
      "\n"
     ]
    }
   ],
   "source": [
    "# Elementwise sum\n",
    "z = x + y\n",
    "print (\"x+y = \\n\", z, \"\\n\")\n",
    "\n",
    "# Elementwise difference\n",
    "z = x - y\n",
    "print (\"x-y = \\n\", z, \"\\n\")\n",
    "\n",
    "# Elementwise product\n",
    "z = x * y\n",
    "print (\"x*y = \\n\", z, \"\\n\")"
   ]
  },
  {
   "cell_type": "code",
   "execution_count": 12,
   "metadata": {
    "colab": {
     "base_uri": "https://localhost:8080/"
    },
    "executionInfo": {
     "elapsed": 16419,
     "status": "ok",
     "timestamp": 1611188372567,
     "user": {
      "displayName": "Keon Julee Paris",
      "photoUrl": "https://lh3.googleusercontent.com/a-/AOh14GiOmRCbWmMp_76J8615EXuXLQ8zHcg0u2us2Iaj=s64",
      "userId": "05794007517284268052"
     },
     "user_tz": 480
    },
    "id": "Q6Kc-I1DTIqc",
    "outputId": "a4cc519c-6a4f-4b3c-a66f-34c2d52ed993"
   },
   "outputs": [
    {
     "name": "stdout",
     "output_type": "stream",
     "text": [
      "x.dot(y) = \n",
      " [[19 22]\n",
      " [43 50]] \n",
      "\n",
      "np.dot(x, y) = \n",
      " [[19 22]\n",
      " [43 50]] \n",
      "\n",
      "x @ y = \n",
      " [[19 22]\n",
      " [43 50]] \n",
      "\n"
     ]
    }
   ],
   "source": [
    "# Matrix dot product; \n",
    "# There are three different ways -- same result\n",
    "z = x.dot(y)\n",
    "print (\"x.dot(y) = \\n\", z, \"\\n\")\n",
    "\n",
    "z = np.dot(x, y)\n",
    "print (\"np.dot(x, y) = \\n\", z, \"\\n\")\n",
    "\n",
    "z = x @ y     # Only in Python 3\n",
    "print (\"x @ y = \\n\", z, \"\\n\")"
   ]
  },
  {
   "cell_type": "markdown",
   "metadata": {
    "id": "HQinJBmqTIqc"
   },
   "source": [
    "**Note:** \n",
    "* For dot product, the shapes of the two matrices must match. <br>\n",
    "In the example above we have (2x2) @ (2x2), which match, so it works.\n",
    "For another example we can have (2x3) @ (3x1), the 3s match. <br>\n",
    "but not (2x2) @ (3x2)  (This won't work.)\n",
    "* Dot product is not commutative. In general x @ y is not equal to y @ x\n",
    "* This can be applied to arrays of higher dimensions as well."
   ]
  },
  {
   "cell_type": "code",
   "execution_count": 13,
   "metadata": {
    "colab": {
     "base_uri": "https://localhost:8080/"
    },
    "executionInfo": {
     "elapsed": 16412,
     "status": "ok",
     "timestamp": 1611188372568,
     "user": {
      "displayName": "Keon Julee Paris",
      "photoUrl": "https://lh3.googleusercontent.com/a-/AOh14GiOmRCbWmMp_76J8615EXuXLQ8zHcg0u2us2Iaj=s64",
      "userId": "05794007517284268052"
     },
     "user_tz": 480
    },
    "id": "OzvzOI0QTIqc",
    "outputId": "80c6731e-60f7-4230-d1ea-54cefc55b249",
    "scrolled": true
   },
   "outputs": [
    {
     "name": "stdout",
     "output_type": "stream",
     "text": [
      "x.T = \n",
      " [[1 3]\n",
      " [2 4]] \n",
      "\n"
     ]
    }
   ],
   "source": [
    "# Matrix transpose\n",
    "z = x.T\n",
    "print (\"x.T = \\n\", z, \"\\n\")"
   ]
  },
  {
   "cell_type": "markdown",
   "metadata": {
    "id": "7OGr5Xi3TIqd"
   },
   "source": [
    "## Reshaping arrays "
   ]
  },
  {
   "cell_type": "code",
   "execution_count": 14,
   "metadata": {
    "colab": {
     "base_uri": "https://localhost:8080/"
    },
    "executionInfo": {
     "elapsed": 16406,
     "status": "ok",
     "timestamp": 1611188372569,
     "user": {
      "displayName": "Keon Julee Paris",
      "photoUrl": "https://lh3.googleusercontent.com/a-/AOh14GiOmRCbWmMp_76J8615EXuXLQ8zHcg0u2us2Iaj=s64",
      "userId": "05794007517284268052"
     },
     "user_tz": 480
    },
    "id": "vOYm1yXyTIqd",
    "outputId": "3e1e95bd-77be-452d-ef1d-6bd5164a7c1c"
   },
   "outputs": [
    {
     "name": "stdout",
     "output_type": "stream",
     "text": [
      "x = \n",
      " [[-4.02934797e-01 -1.25970283e+00 -7.06306415e-02 -5.80286868e-04]\n",
      " [-4.22424367e-01 -1.44636184e+00 -1.48519038e+00  1.51721497e+00]\n",
      " [ 5.30604746e-01 -6.74014765e-01  9.50350724e-01 -1.23775271e-01]]\n",
      "z = \n",
      " [[-4.02934797e-01 -1.25970283e+00 -7.06306415e-02]\n",
      " [-5.80286868e-04 -4.22424367e-01 -1.44636184e+00]\n",
      " [-1.48519038e+00  1.51721497e+00  5.30604746e-01]\n",
      " [-6.74014765e-01  9.50350724e-01 -1.23775271e-01]]\n",
      "z2 = \n",
      " [[-4.02934797e-01 -1.25970283e+00 -7.06306415e-02 -5.80286868e-04\n",
      "  -4.22424367e-01 -1.44636184e+00]\n",
      " [-1.48519038e+00  1.51721497e+00  5.30604746e-01 -6.74014765e-01\n",
      "   9.50350724e-01 -1.23775271e-01]]\n"
     ]
    }
   ],
   "source": [
    "## Reshaping arrays ##\n",
    "\n",
    "x = np.random.randn(3,4)\n",
    "print(\"x = \\n\",x)\n",
    "\n",
    "z = np.reshape(x, (4,3))\n",
    "print(\"z = \\n\", z)\n",
    "\n",
    "z2 = np.reshape(x, (2,6))\n",
    "print(\"z2 = \\n\", z2)"
   ]
  },
  {
   "cell_type": "code",
   "execution_count": 15,
   "metadata": {
    "colab": {
     "base_uri": "https://localhost:8080/"
    },
    "executionInfo": {
     "elapsed": 16401,
     "status": "ok",
     "timestamp": 1611188372569,
     "user": {
      "displayName": "Keon Julee Paris",
      "photoUrl": "https://lh3.googleusercontent.com/a-/AOh14GiOmRCbWmMp_76J8615EXuXLQ8zHcg0u2us2Iaj=s64",
      "userId": "05794007517284268052"
     },
     "user_tz": 480
    },
    "id": "4ZwU4mfOTIqd",
    "outputId": "d732d33b-29d2-43b4-f67d-c4a774fbddf8"
   },
   "outputs": [
    {
     "name": "stdout",
     "output_type": "stream",
     "text": [
      "z = \n",
      " [[-4.02934797e-01 -1.25970283e+00 -7.06306415e-02 -5.80286868e-04\n",
      "  -4.22424367e-01 -1.44636184e+00 -1.48519038e+00  1.51721497e+00\n",
      "   5.30604746e-01 -6.74014765e-01  9.50350724e-01 -1.23775271e-01]]\n"
     ]
    }
   ],
   "source": [
    "# We will often want to reshape 2D images to nx1 or 1xn arrays.\n",
    "\n",
    "z = np.reshape(x,(1,x.shape[0]*x.shape[1],))\n",
    "# or\n",
    "#z = x.reshape((x.shape[0]*x.shape[1],1))\n",
    "\n",
    "print(\"z = \\n\", z)"
   ]
  },
  {
   "cell_type": "markdown",
   "metadata": {
    "id": "Z8pRtNCQTIqd"
   },
   "source": [
    "Array Slicing\n",
    "--\n",
    "Array slicing is similar to list slicing, but here we need to do slicing in each dimension."
   ]
  },
  {
   "cell_type": "code",
   "execution_count": 16,
   "metadata": {
    "colab": {
     "base_uri": "https://localhost:8080/"
    },
    "executionInfo": {
     "elapsed": 16398,
     "status": "ok",
     "timestamp": 1611188372570,
     "user": {
      "displayName": "Keon Julee Paris",
      "photoUrl": "https://lh3.googleusercontent.com/a-/AOh14GiOmRCbWmMp_76J8615EXuXLQ8zHcg0u2us2Iaj=s64",
      "userId": "05794007517284268052"
     },
     "user_tz": 480
    },
    "id": "WP-hAPIGTIqe",
    "outputId": "e0d2cefb-da21-409f-8993-aa7a736d40b9"
   },
   "outputs": [
    {
     "name": "stdout",
     "output_type": "stream",
     "text": [
      "[[ 1  2  3  4]\n",
      " [ 5  6  7  8]\n",
      " [ 9 10 11 12]]\n",
      "[[2 3]\n",
      " [6 7]]\n",
      "[[2 3 4]\n",
      " [6 7 8]]\n"
     ]
    }
   ],
   "source": [
    "# Let's create an array\n",
    "a = np.array([[1,2,3,4], [5,6,7,8], [9,10,11,12]])\n",
    "print(a)\n",
    "# Slice in the 1st dimension from 0 to 2 (not including 2)\n",
    "# Slice in the 2nd dimension from 1 to 3 (not including 3)\n",
    "b = a[0:2, 1:3]\n",
    "\n",
    "print(b)\n",
    "\n",
    "# Here is another example\n",
    "c = a[:2, 1:4]\n",
    "\n",
    "print(c)"
   ]
  },
  {
   "cell_type": "markdown",
   "metadata": {
    "id": "B8h3BVAXTIqe"
   },
   "source": [
    "Numpy Math Functions\n",
    "--"
   ]
  },
  {
   "cell_type": "code",
   "execution_count": 17,
   "metadata": {
    "colab": {
     "base_uri": "https://localhost:8080/"
    },
    "executionInfo": {
     "elapsed": 16394,
     "status": "ok",
     "timestamp": 1611188372571,
     "user": {
      "displayName": "Keon Julee Paris",
      "photoUrl": "https://lh3.googleusercontent.com/a-/AOh14GiOmRCbWmMp_76J8615EXuXLQ8zHcg0u2us2Iaj=s64",
      "userId": "05794007517284268052"
     },
     "user_tz": 480
    },
    "id": "TqMOH-JiTIqe",
    "outputId": "654bd3ae-8205-4a79-e4f3-0929c665618a"
   },
   "outputs": [
    {
     "name": "stdout",
     "output_type": "stream",
     "text": [
      "np.exp(a) = \n",
      " [[ 2.71828183  7.3890561  20.08553692 54.59815003]]\n",
      "np.log(a) = \n",
      " [[0.         0.69314718 1.09861229 1.38629436]]\n"
     ]
    }
   ],
   "source": [
    "# Let's create a 1x3 array\n",
    "a = np.array([[1,2,3,4]])\n",
    "\n",
    "# compute e^x for each number in the array\n",
    "print(\"np.exp(a) = \\n\", np.exp(a))\n",
    "\n",
    "# compute the log (base e) of each number in the array\n",
    "print(\"np.log(a) = \\n\", np.log(a))\n",
    "\n",
    "# See, numpy functions, such as exp and log, \n",
    "# take arrays as input and produce arrays as output. \n",
    "# They compute the function on each element of the input array."
   ]
  },
  {
   "cell_type": "markdown",
   "metadata": {
    "id": "LVPobliLTIqe"
   },
   "source": [
    "**The Sigmoid Function**\n",
    "\n",
    "An important function in neural networks is the Sigmoid function, sometimes known as the logistic function\n",
    "$$\n",
    "sigmoid(x) = \\frac{1}{1+e^{-x}}.\n",
    "$$\n",
    "Let's implement it using numpy."
   ]
  },
  {
   "cell_type": "code",
   "execution_count": 18,
   "metadata": {
    "colab": {
     "base_uri": "https://localhost:8080/"
    },
    "executionInfo": {
     "elapsed": 16612,
     "status": "ok",
     "timestamp": 1611188372794,
     "user": {
      "displayName": "Keon Julee Paris",
      "photoUrl": "https://lh3.googleusercontent.com/a-/AOh14GiOmRCbWmMp_76J8615EXuXLQ8zHcg0u2us2Iaj=s64",
      "userId": "05794007517284268052"
     },
     "user_tz": 480
    },
    "id": "DCucL6B8TIqf",
    "outputId": "a0794d15-3654-42af-d8f1-9e2f2c61cece"
   },
   "outputs": [
    {
     "data": {
      "text/plain": [
       "array([[0.73105858, 0.88079708, 0.95257413, 0.98201379]])"
      ]
     },
     "execution_count": 18,
     "metadata": {},
     "output_type": "execute_result"
    }
   ],
   "source": [
    "def sigmoid(x):\n",
    "    return 1/(1+np.exp(-x))\n",
    "\n",
    "sigmoid(a)"
   ]
  },
  {
   "cell_type": "markdown",
   "metadata": {
    "id": "vIt3xBoJTIqi"
   },
   "source": [
    "## Decision trees with Sklearn (sci-kit learn library)\n",
    "1. Decision Tree: https://scikit-learn.org/stable/modules/generated/sklearn.tree.DecisionTreeClassifier.html\n",
    "2. iris dataset: https://en.wikipedia.org/wiki/Iris_flower_data_set  \n",
    "3. hyperparameter Max_depth = The maximum depth of the tree. If None, then nodes are expanded until all leaves are pure or until all leaves contain less than min_samples_split samples."
   ]
  },
  {
   "cell_type": "code",
   "execution_count": 19,
   "metadata": {},
   "outputs": [
    {
     "data": {
      "image/png": "[encoded data removed]",
      "text/plain": [
       "<Figure size 432x288 with 1 Axes>"
      ]
     },
     "metadata": {
      "needs_background": "light"
     },
     "output_type": "display_data"
    }
   ],
   "source": [
    "from sklearn.datasets import make_blobs\n",
    "import matplotlib.pyplot as plt\n",
    "X, y = make_blobs(n_samples=300, centers=4,\n",
    "                  random_state=0, cluster_std=1.0)\n",
    "plt.scatter(X[:, 0], X[:, 1], c=y, s=50, cmap='rainbow');"
   ]
  },
  {
   "cell_type": "code",
   "execution_count": 20,
   "metadata": {},
   "outputs": [],
   "source": [
    "def visualize_classifier(model, X, y, ax=None, cmap='rainbow'):\n",
    "    ax = ax or plt.gca()\n",
    "    \n",
    "    # Plot the training points\n",
    "    ax.scatter(X[:, 0], X[:, 1], c=y, s=30, cmap=cmap,\n",
    "               clim=(y.min(), y.max()), zorder=3)\n",
    "    ax.axis('tight')\n",
    "    ax.axis('off')\n",
    "    xlim = ax.get_xlim()\n",
    "    ylim = ax.get_ylim()\n",
    "    \n",
    "    # fit the estimator\n",
    "    model.fit(X, y)\n",
    "    xx, yy = np.meshgrid(np.linspace(*xlim, num=200),\n",
    "                         np.linspace(*ylim, num=200))\n",
    "    Z = model.predict(np.c_[xx.ravel(), yy.ravel()]).reshape(xx.shape)\n",
    "\n",
    "    # Create a color plot with the results\n",
    "    n_classes = len(np.unique(y))\n",
    "    contours = ax.contourf(xx, yy, Z, alpha=0.3,\n",
    "                           levels=np.arange(n_classes + 1) - 0.5,\n",
    "                           cmap=cmap, clim=(y.min(), y.max()),\n",
    "                           zorder=1)\n",
    "\n",
    "    ax.set(xlim=xlim, ylim=ylim)"
   ]
  },
  {
   "cell_type": "code",
   "execution_count": 21,
   "metadata": {},
   "outputs": [
    {
     "name": "stderr",
     "output_type": "stream",
     "text": [
      "<ipython-input-20-2012e9cc4787>:20: UserWarning: The following kwargs were not used by contour: 'clim'\n",
      "  contours = ax.contourf(xx, yy, Z, alpha=0.3,\n"
     ]
    },
    {
     "data": {
      "image/png": "[encoded data removed]",
      "text/plain": [
       "<Figure size 432x288 with 1 Axes>"
      ]
     },
     "metadata": {
      "needs_background": "light"
     },
     "output_type": "display_data"
    }
   ],
   "source": [
    "from sklearn.tree import DecisionTreeClassifier\n",
    "D3 = DecisionTreeClassifier(random_state=0, max_depth=2, criterion=\"entropy\").fit(X, y)\n",
    "visualize_classifier(DecisionTreeClassifier(), X, y)\n"
   ]
  },
  {
   "cell_type": "code",
   "execution_count": 22,
   "metadata": {},
   "outputs": [
    {
     "name": "stdout",
     "output_type": "stream",
     "text": [
      "|--- feature_0 <= 0.01\n",
      "|   |--- feature_1 <= 5.18\n",
      "|   |   |--- class: 2\n",
      "|   |--- feature_1 >  5.18\n",
      "|   |   |--- class: 3\n",
      "|--- feature_0 >  0.01\n",
      "|   |--- feature_1 <= 2.57\n",
      "|   |   |--- class: 1\n",
      "|   |--- feature_1 >  2.57\n",
      "|   |   |--- class: 0\n",
      "\n"
     ]
    },
    {
     "data": {
      "image/png": "[encoded data removed]",
      "text/plain": [
       "<Figure size 1656x1656 with 1 Axes>"
      ]
     },
     "metadata": {
      "needs_background": "light"
     },
     "output_type": "display_data"
    }
   ],
   "source": [
    "from sklearn.tree import plot_tree\n",
    "from sklearn import tree\n",
    "\n",
    "\n",
    "plt.figure(figsize=(23, 23))\n",
    "plot_tree(D3, filled=True)\n",
    "\n",
    "text_representation = tree.export_text(D3)\n",
    "print(text_representation)\n"
   ]
  },
  {
   "cell_type": "code",
   "execution_count": 23,
   "metadata": {
    "id": "2flN24VqTIqi"
   },
   "outputs": [],
   "source": [
    "from sklearn.datasets import load_iris\n",
    "from sklearn.tree import DecisionTreeClassifier\n",
    "\n",
    "iris = load_iris() # load iris dataset which is Data Mining 101 dataset!"
   ]
  },
  {
   "cell_type": "code",
   "execution_count": 24,
   "metadata": {
    "colab": {
     "base_uri": "https://localhost:8080/"
    },
    "executionInfo": {
     "elapsed": 791,
     "status": "ok",
     "timestamp": 1611188812827,
     "user": {
      "displayName": "Keon Julee Paris",
      "photoUrl": "https://lh3.googleusercontent.com/a-/AOh14GiOmRCbWmMp_76J8615EXuXLQ8zHcg0u2us2Iaj=s64",
      "userId": "05794007517284268052"
     },
     "user_tz": 480
    },
    "id": "3xmmd2YVTIqi",
    "outputId": "c40be469-35d1-45aa-8917-4dfc96c39a88"
   },
   "outputs": [
    {
     "name": "stdout",
     "output_type": "stream",
     "text": [
      "[2]\n"
     ]
    }
   ],
   "source": [
    "# Define the classifier as DecisionTreeClassifier with some hyperparameters, such as max_depth\n",
    "decision_tree_entropy = DecisionTreeClassifier(random_state=0, max_depth=3, criterion=\"entropy\")\n",
    "# .fit:Build a decision tree classifier from the training set (X, y).\n",
    "decision_tree_entropy = decision_tree_entropy.fit(iris.data, iris.target)\n",
    "# .predict:Predict class or regression value for X. \n",
    "# For a classification model, the predicted class for each sample in X is returned. \n",
    "# For a regression model, the predicted value based on X is returned.\n",
    "# sepal length, sepal width, petal length, petal width and species.\n",
    "print(decision_tree_entropy.predict([[3.6,2.5,4.5,2.1]]))"
   ]
  },
  {
   "cell_type": "code",
   "execution_count": 25,
   "metadata": {},
   "outputs": [
    {
     "data": {
      "image/svg+xml": [
       "<?xml version=\"1.0\" encoding=\"UTF-8\" standalone=\"no\"?>\n",
       "<!DOCTYPE svg PUBLIC \"-//W3C//DTD SVG 1.1//EN\"\n",
       " \"http://www.w3.org/Graphics/SVG/1.1/DTD/svg11.dtd\">\n",
       "<!-- Generated by graphviz version 2.47.0 (20210316.0004)\n",
       " -->\n",
       "<!-- Title: Tree Pages: 1 -->\n",
       "<svg width=\"527pt\" height=\"433pt\"\n",
       " viewBox=\"0.00 0.00 527.00 433.00\" xmlns=\"http://www.w3.org/2000/svg\" xmlns:xlink=\"http://www.w3.org/1999/xlink\">\n",
       "<g id=\"graph0\" class=\"graph\" transform=\"scale(1 1) rotate(0) translate(4 429)\">\n",
       "<title>Tree</title>\n",
       "<polygon fill=\"white\" stroke=\"transparent\" points=\"-4,4 -4,-429 523,-429 523,4 -4,4\"/>\n",
       "<!-- 0 -->\n",
       "<g id=\"node1\" class=\"node\">\n",
       "<title>0</title>\n",
       "<polygon fill=\"#ffffff\" stroke=\"black\" points=\"258,-425 109,-425 109,-342 258,-342 258,-425\"/>\n",
       "<text text-anchor=\"middle\" x=\"183.5\" y=\"-409.8\" font-family=\"Times,serif\" font-size=\"14.00\">petal width (cm) &lt;= 0.8</text>\n",
       "<text text-anchor=\"middle\" x=\"183.5\" y=\"-394.8\" font-family=\"Times,serif\" font-size=\"14.00\">entropy = 1.585</text>\n",
       "<text text-anchor=\"middle\" x=\"183.5\" y=\"-379.8\" font-family=\"Times,serif\" font-size=\"14.00\">samples = 150</text>\n",
       "<text text-anchor=\"middle\" x=\"183.5\" y=\"-364.8\" font-family=\"Times,serif\" font-size=\"14.00\">value = [50, 50, 50]</text>\n",
       "<text text-anchor=\"middle\" x=\"183.5\" y=\"-349.8\" font-family=\"Times,serif\" font-size=\"14.00\">class = setosa</text>\n",
       "</g>\n",
       "<!-- 1 -->\n",
       "<g id=\"node2\" class=\"node\">\n",
       "<title>1</title>\n",
       "<polygon fill=\"#e58139\" stroke=\"black\" points=\"164,-298.5 51,-298.5 51,-230.5 164,-230.5 164,-298.5\"/>\n",
       "<text text-anchor=\"middle\" x=\"107.5\" y=\"-283.3\" font-family=\"Times,serif\" font-size=\"14.00\">entropy = 0.0</text>\n",
       "<text text-anchor=\"middle\" x=\"107.5\" y=\"-268.3\" font-family=\"Times,serif\" font-size=\"14.00\">samples = 50</text>\n",
       "<text text-anchor=\"middle\" x=\"107.5\" y=\"-253.3\" font-family=\"Times,serif\" font-size=\"14.00\">value = [50, 0, 0]</text>\n",
       "<text text-anchor=\"middle\" x=\"107.5\" y=\"-238.3\" font-family=\"Times,serif\" font-size=\"14.00\">class = setosa</text>\n",
       "</g>\n",
       "<!-- 0&#45;&gt;1 -->\n",
       "<g id=\"edge1\" class=\"edge\">\n",
       "<title>0&#45;&gt;1</title>\n",
       "<path fill=\"none\" stroke=\"black\" d=\"M157.13,-341.91C149.82,-330.65 141.87,-318.42 134.53,-307.11\"/>\n",
       "<polygon fill=\"black\" stroke=\"black\" points=\"137.43,-305.15 129.04,-298.67 131.56,-308.96 137.43,-305.15\"/>\n",
       "<text text-anchor=\"middle\" x=\"123.85\" y=\"-319.42\" font-family=\"Times,serif\" font-size=\"14.00\">True</text>\n",
       "</g>\n",
       "<!-- 2 -->\n",
       "<g id=\"node3\" class=\"node\">\n",
       "<title>2</title>\n",
       "<polygon fill=\"#ffffff\" stroke=\"black\" points=\"337,-306 182,-306 182,-223 337,-223 337,-306\"/>\n",
       "<text text-anchor=\"middle\" x=\"259.5\" y=\"-290.8\" font-family=\"Times,serif\" font-size=\"14.00\">petal width (cm) &lt;= 1.75</text>\n",
       "<text text-anchor=\"middle\" x=\"259.5\" y=\"-275.8\" font-family=\"Times,serif\" font-size=\"14.00\">entropy = 1.0</text>\n",
       "<text text-anchor=\"middle\" x=\"259.5\" y=\"-260.8\" font-family=\"Times,serif\" font-size=\"14.00\">samples = 100</text>\n",
       "<text text-anchor=\"middle\" x=\"259.5\" y=\"-245.8\" font-family=\"Times,serif\" font-size=\"14.00\">value = [0, 50, 50]</text>\n",
       "<text text-anchor=\"middle\" x=\"259.5\" y=\"-230.8\" font-family=\"Times,serif\" font-size=\"14.00\">class = versicolor</text>\n",
       "</g>\n",
       "<!-- 0&#45;&gt;2 -->\n",
       "<g id=\"edge2\" class=\"edge\">\n",
       "<title>0&#45;&gt;2</title>\n",
       "<path fill=\"none\" stroke=\"black\" d=\"M209.87,-341.91C215.59,-333.1 221.69,-323.7 227.6,-314.61\"/>\n",
       "<polygon fill=\"black\" stroke=\"black\" points=\"230.67,-316.31 233.18,-306.02 224.8,-312.5 230.67,-316.31\"/>\n",
       "<text text-anchor=\"middle\" x=\"238.37\" y=\"-326.78\" font-family=\"Times,serif\" font-size=\"14.00\">False</text>\n",
       "</g>\n",
       "<!-- 3 -->\n",
       "<g id=\"node4\" class=\"node\">\n",
       "<title>3</title>\n",
       "<polygon fill=\"#4de88e\" stroke=\"black\" points=\"250.5,-187 92.5,-187 92.5,-104 250.5,-104 250.5,-187\"/>\n",
       "<text text-anchor=\"middle\" x=\"171.5\" y=\"-171.8\" font-family=\"Times,serif\" font-size=\"14.00\">petal length (cm) &lt;= 4.95</text>\n",
       "<text text-anchor=\"middle\" x=\"171.5\" y=\"-156.8\" font-family=\"Times,serif\" font-size=\"14.00\">entropy = 0.445</text>\n",
       "<text text-anchor=\"middle\" x=\"171.5\" y=\"-141.8\" font-family=\"Times,serif\" font-size=\"14.00\">samples = 54</text>\n",
       "<text text-anchor=\"middle\" x=\"171.5\" y=\"-126.8\" font-family=\"Times,serif\" font-size=\"14.00\">value = [0, 49, 5]</text>\n",
       "<text text-anchor=\"middle\" x=\"171.5\" y=\"-111.8\" font-family=\"Times,serif\" font-size=\"14.00\">class = versicolor</text>\n",
       "</g>\n",
       "<!-- 2&#45;&gt;3 -->\n",
       "<g id=\"edge3\" class=\"edge\">\n",
       "<title>2&#45;&gt;3</title>\n",
       "<path fill=\"none\" stroke=\"black\" d=\"M228.97,-222.91C222.21,-213.92 214.98,-204.32 208.02,-195.05\"/>\n",
       "<polygon fill=\"black\" stroke=\"black\" points=\"210.79,-192.91 201.98,-187.02 205.19,-197.12 210.79,-192.91\"/>\n",
       "</g>\n",
       "<!-- 6 -->\n",
       "<g id=\"node7\" class=\"node\">\n",
       "<title>6</title>\n",
       "<polygon fill=\"#843de6\" stroke=\"black\" points=\"426.5,-187 268.5,-187 268.5,-104 426.5,-104 426.5,-187\"/>\n",
       "<text text-anchor=\"middle\" x=\"347.5\" y=\"-171.8\" font-family=\"Times,serif\" font-size=\"14.00\">petal length (cm) &lt;= 4.85</text>\n",
       "<text text-anchor=\"middle\" x=\"347.5\" y=\"-156.8\" font-family=\"Times,serif\" font-size=\"14.00\">entropy = 0.151</text>\n",
       "<text text-anchor=\"middle\" x=\"347.5\" y=\"-141.8\" font-family=\"Times,serif\" font-size=\"14.00\">samples = 46</text>\n",
       "<text text-anchor=\"middle\" x=\"347.5\" y=\"-126.8\" font-family=\"Times,serif\" font-size=\"14.00\">value = [0, 1, 45]</text>\n",
       "<text text-anchor=\"middle\" x=\"347.5\" y=\"-111.8\" font-family=\"Times,serif\" font-size=\"14.00\">class = virginica</text>\n",
       "</g>\n",
       "<!-- 2&#45;&gt;6 -->\n",
       "<g id=\"edge6\" class=\"edge\">\n",
       "<title>2&#45;&gt;6</title>\n",
       "<path fill=\"none\" stroke=\"black\" d=\"M290.03,-222.91C296.79,-213.92 304.02,-204.32 310.98,-195.05\"/>\n",
       "<polygon fill=\"black\" stroke=\"black\" points=\"313.81,-197.12 317.02,-187.02 308.21,-192.91 313.81,-197.12\"/>\n",
       "</g>\n",
       "<!-- 4 -->\n",
       "<g id=\"node5\" class=\"node\">\n",
       "<title>4</title>\n",
       "<polygon fill=\"#3de684\" stroke=\"black\" points=\"113,-68 0,-68 0,0 113,0 113,-68\"/>\n",
       "<text text-anchor=\"middle\" x=\"56.5\" y=\"-52.8\" font-family=\"Times,serif\" font-size=\"14.00\">entropy = 0.146</text>\n",
       "<text text-anchor=\"middle\" x=\"56.5\" y=\"-37.8\" font-family=\"Times,serif\" font-size=\"14.00\">samples = 48</text>\n",
       "<text text-anchor=\"middle\" x=\"56.5\" y=\"-22.8\" font-family=\"Times,serif\" font-size=\"14.00\">value = [0, 47, 1]</text>\n",
       "<text text-anchor=\"middle\" x=\"56.5\" y=\"-7.8\" font-family=\"Times,serif\" font-size=\"14.00\">class = versicolor</text>\n",
       "</g>\n",
       "<!-- 3&#45;&gt;4 -->\n",
       "<g id=\"edge4\" class=\"edge\">\n",
       "<title>3&#45;&gt;4</title>\n",
       "<path fill=\"none\" stroke=\"black\" d=\"M128.68,-103.73C118.91,-94.42 108.53,-84.54 98.78,-75.26\"/>\n",
       "<polygon fill=\"black\" stroke=\"black\" points=\"101.13,-72.66 91.47,-68.3 96.3,-77.73 101.13,-72.66\"/>\n",
       "</g>\n",
       "<!-- 5 -->\n",
       "<g id=\"node6\" class=\"node\">\n",
       "<title>5</title>\n",
       "<polygon fill=\"#c09cf2\" stroke=\"black\" points=\"238,-68 131,-68 131,0 238,0 238,-68\"/>\n",
       "<text text-anchor=\"middle\" x=\"184.5\" y=\"-52.8\" font-family=\"Times,serif\" font-size=\"14.00\">entropy = 0.918</text>\n",
       "<text text-anchor=\"middle\" x=\"184.5\" y=\"-37.8\" font-family=\"Times,serif\" font-size=\"14.00\">samples = 6</text>\n",
       "<text text-anchor=\"middle\" x=\"184.5\" y=\"-22.8\" font-family=\"Times,serif\" font-size=\"14.00\">value = [0, 2, 4]</text>\n",
       "<text text-anchor=\"middle\" x=\"184.5\" y=\"-7.8\" font-family=\"Times,serif\" font-size=\"14.00\">class = virginica</text>\n",
       "</g>\n",
       "<!-- 3&#45;&gt;5 -->\n",
       "<g id=\"edge5\" class=\"edge\">\n",
       "<title>3&#45;&gt;5</title>\n",
       "<path fill=\"none\" stroke=\"black\" d=\"M176.34,-103.73C177.33,-95.43 178.37,-86.67 179.36,-78.28\"/>\n",
       "<polygon fill=\"black\" stroke=\"black\" points=\"182.84,-78.64 180.55,-68.3 175.89,-77.82 182.84,-78.64\"/>\n",
       "</g>\n",
       "<!-- 7 -->\n",
       "<g id=\"node8\" class=\"node\">\n",
       "<title>7</title>\n",
       "<polygon fill=\"#c09cf2\" stroke=\"black\" points=\"388,-68 281,-68 281,0 388,0 388,-68\"/>\n",
       "<text text-anchor=\"middle\" x=\"334.5\" y=\"-52.8\" font-family=\"Times,serif\" font-size=\"14.00\">entropy = 0.918</text>\n",
       "<text text-anchor=\"middle\" x=\"334.5\" y=\"-37.8\" font-family=\"Times,serif\" font-size=\"14.00\">samples = 3</text>\n",
       "<text text-anchor=\"middle\" x=\"334.5\" y=\"-22.8\" font-family=\"Times,serif\" font-size=\"14.00\">value = [0, 1, 2]</text>\n",
       "<text text-anchor=\"middle\" x=\"334.5\" y=\"-7.8\" font-family=\"Times,serif\" font-size=\"14.00\">class = virginica</text>\n",
       "</g>\n",
       "<!-- 6&#45;&gt;7 -->\n",
       "<g id=\"edge7\" class=\"edge\">\n",
       "<title>6&#45;&gt;7</title>\n",
       "<path fill=\"none\" stroke=\"black\" d=\"M342.66,-103.73C341.67,-95.43 340.63,-86.67 339.64,-78.28\"/>\n",
       "<polygon fill=\"black\" stroke=\"black\" points=\"343.11,-77.82 338.45,-68.3 336.16,-78.64 343.11,-77.82\"/>\n",
       "</g>\n",
       "<!-- 8 -->\n",
       "<g id=\"node9\" class=\"node\">\n",
       "<title>8</title>\n",
       "<polygon fill=\"#8139e5\" stroke=\"black\" points=\"519,-68 406,-68 406,0 519,0 519,-68\"/>\n",
       "<text text-anchor=\"middle\" x=\"462.5\" y=\"-52.8\" font-family=\"Times,serif\" font-size=\"14.00\">entropy = 0.0</text>\n",
       "<text text-anchor=\"middle\" x=\"462.5\" y=\"-37.8\" font-family=\"Times,serif\" font-size=\"14.00\">samples = 43</text>\n",
       "<text text-anchor=\"middle\" x=\"462.5\" y=\"-22.8\" font-family=\"Times,serif\" font-size=\"14.00\">value = [0, 0, 43]</text>\n",
       "<text text-anchor=\"middle\" x=\"462.5\" y=\"-7.8\" font-family=\"Times,serif\" font-size=\"14.00\">class = virginica</text>\n",
       "</g>\n",
       "<!-- 6&#45;&gt;8 -->\n",
       "<g id=\"edge8\" class=\"edge\">\n",
       "<title>6&#45;&gt;8</title>\n",
       "<path fill=\"none\" stroke=\"black\" d=\"M390.32,-103.73C400.09,-94.42 410.47,-84.54 420.22,-75.26\"/>\n",
       "<polygon fill=\"black\" stroke=\"black\" points=\"422.7,-77.73 427.53,-68.3 417.87,-72.66 422.7,-77.73\"/>\n",
       "</g>\n",
       "</g>\n",
       "</svg>\n"
      ],
      "text/plain": [
       "<graphviz.files.Source at 0x7f903801bfa0>"
      ]
     },
     "execution_count": 25,
     "metadata": {},
     "output_type": "execute_result"
    }
   ],
   "source": [
    "import graphviz\n",
    "from sklearn.tree import export_graphviz\n",
    "from sklearn import tree\n",
    "dot_data = tree.export_graphviz(decision_tree_entropy, out_file=None, \n",
    "                                feature_names=iris.feature_names,  \n",
    "                                class_names=iris.target_names,\n",
    "                                filled=True)\n",
    "\n",
    "# dot_data = tree.export_graphviz(D3, out_file=None, filled=True)\n",
    "\n",
    "# Draw graph\n",
    "graph = graphviz.Source(dot_data, format=\"png\") \n",
    "graph"
   ]
  },
  {
   "cell_type": "code",
   "execution_count": 26,
   "metadata": {
    "id": "ENfs_6FsTIqj"
   },
   "outputs": [],
   "source": [
    "another_decision_tree = DecisionTreeClassifier(random_state=0, max_depth=4,criterion=\"gini\")\n",
    "another_decision_tree = another_decision_tree.fit(iris.data, iris.target)"
   ]
  },
  {
   "cell_type": "markdown",
   "metadata": {},
   "source": [
    "## Random Forest\n",
    "\n",
    "Random forest is one of the cool classifier in machine learning"
   ]
  },
  {
   "cell_type": "code",
   "execution_count": 27,
   "metadata": {},
   "outputs": [
    {
     "data": {
      "text/plain": [
       "<Figure size 432x288 with 0 Axes>"
      ]
     },
     "metadata": {},
     "output_type": "display_data"
    },
    {
     "data": {
      "image/png": "[encoded data removed]",
      "text/plain": [
       "<Figure size 288x288 with 1 Axes>"
      ]
     },
     "metadata": {
      "needs_background": "light"
     },
     "output_type": "display_data"
    }
   ],
   "source": [
    "import matplotlib.pyplot as plt\n",
    "from sklearn.datasets import load_digits\n",
    "import numpy as np\n",
    "\n",
    "images = load_digits()\n",
    "plt.gray()\n",
    "plt.matshow(images.images[7])\n",
    "plt.show()"
   ]
  },
  {
   "cell_type": "code",
   "execution_count": 28,
   "metadata": {},
   "outputs": [
    {
     "data": {
      "text/plain": [
       "RandomForestClassifier(max_depth=2)"
      ]
     },
     "execution_count": 28,
     "metadata": {},
     "output_type": "execute_result"
    }
   ],
   "source": [
    "from sklearn.ensemble import RandomForestClassifier\n",
    "\n",
    "X_digits, y_digits = load_digits(return_X_y=True)\n",
    "# print(X_digits.shape)\n",
    "# X_scaled = preprocessing.scale(X_digits)\n",
    "\n",
    "model = RandomForestClassifier(n_estimators=100,max_depth=2)\n",
    "model.fit(X_digits, y_digits)"
   ]
  },
  {
   "cell_type": "code",
   "execution_count": 29,
   "metadata": {},
   "outputs": [
    {
     "data": {
      "image/svg+xml": [
       "<?xml version=\"1.0\" encoding=\"UTF-8\" standalone=\"no\"?>\n",
       "<!DOCTYPE svg PUBLIC \"-//W3C//DTD SVG 1.1//EN\"\n",
       " \"http://www.w3.org/Graphics/SVG/1.1/DTD/svg11.dtd\">\n",
       "<!-- Generated by graphviz version 2.47.0 (20210316.0004)\n",
       " -->\n",
       "<!-- Title: Tree Pages: 1 -->\n",
       "<svg width=\"1127pt\" height=\"269pt\"\n",
       " viewBox=\"0.00 0.00 1126.50 269.00\" xmlns=\"http://www.w3.org/2000/svg\" xmlns:xlink=\"http://www.w3.org/1999/xlink\">\n",
       "<g id=\"graph0\" class=\"graph\" transform=\"scale(1 1) rotate(0) translate(4 265)\">\n",
       "<title>Tree</title>\n",
       "<polygon fill=\"white\" stroke=\"transparent\" points=\"-4,4 -4,-265 1122.5,-265 1122.5,4 -4,4\"/>\n",
       "<!-- 0 -->\n",
       "<g id=\"node1\" class=\"node\">\n",
       "<title>0</title>\n",
       "<polygon fill=\"#ffffff\" stroke=\"black\" points=\"696,-261 355,-261 355,-193 696,-193 696,-261\"/>\n",
       "<text text-anchor=\"middle\" x=\"525.5\" y=\"-245.8\" font-family=\"Times,serif\" font-size=\"14.00\">X[26] &lt;= 5.5</text>\n",
       "<text text-anchor=\"middle\" x=\"525.5\" y=\"-230.8\" font-family=\"Times,serif\" font-size=\"14.00\">gini = 0.9</text>\n",
       "<text text-anchor=\"middle\" x=\"525.5\" y=\"-215.8\" font-family=\"Times,serif\" font-size=\"14.00\">samples = 1164</text>\n",
       "<text text-anchor=\"middle\" x=\"525.5\" y=\"-200.8\" font-family=\"Times,serif\" font-size=\"14.00\">value = [182, 167, 168, 182, 195, 173, 198, 189, 170, 173]</text>\n",
       "</g>\n",
       "<!-- 1 -->\n",
       "<g id=\"node2\" class=\"node\">\n",
       "<title>1</title>\n",
       "<polygon fill=\"#f4fef6\" stroke=\"black\" points=\"503.5,-157 237.5,-157 237.5,-89 503.5,-89 503.5,-157\"/>\n",
       "<text text-anchor=\"middle\" x=\"370.5\" y=\"-141.8\" font-family=\"Times,serif\" font-size=\"14.00\">X[51] &lt;= 8.5</text>\n",
       "<text text-anchor=\"middle\" x=\"370.5\" y=\"-126.8\" font-family=\"Times,serif\" font-size=\"14.00\">gini = 0.796</text>\n",
       "<text text-anchor=\"middle\" x=\"370.5\" y=\"-111.8\" font-family=\"Times,serif\" font-size=\"14.00\">samples = 379</text>\n",
       "<text text-anchor=\"middle\" x=\"370.5\" y=\"-96.8\" font-family=\"Times,serif\" font-size=\"14.00\">value = [8, 47, 143, 169, 1, 2, 2, 126, 62, 35]</text>\n",
       "</g>\n",
       "<!-- 0&#45;&gt;1 -->\n",
       "<g id=\"edge1\" class=\"edge\">\n",
       "<title>0&#45;&gt;1</title>\n",
       "<path fill=\"none\" stroke=\"black\" d=\"M475.18,-192.88C460.62,-183.3 444.6,-172.76 429.56,-162.86\"/>\n",
       "<polygon fill=\"black\" stroke=\"black\" points=\"431.11,-159.7 420.84,-157.12 427.27,-165.55 431.11,-159.7\"/>\n",
       "<text text-anchor=\"middle\" x=\"425.89\" y=\"-177.91\" font-family=\"Times,serif\" font-size=\"14.00\">True</text>\n",
       "</g>\n",
       "<!-- 4 -->\n",
       "<g id=\"node5\" class=\"node\">\n",
       "<title>4</title>\n",
       "<polygon fill=\"#ffffff\" stroke=\"black\" points=\"841.5,-157 521.5,-157 521.5,-89 841.5,-89 841.5,-157\"/>\n",
       "<text text-anchor=\"middle\" x=\"681.5\" y=\"-141.8\" font-family=\"Times,serif\" font-size=\"14.00\">X[36] &lt;= 0.5</text>\n",
       "<text text-anchor=\"middle\" x=\"681.5\" y=\"-126.8\" font-family=\"Times,serif\" font-size=\"14.00\">gini = 0.872</text>\n",
       "<text text-anchor=\"middle\" x=\"681.5\" y=\"-111.8\" font-family=\"Times,serif\" font-size=\"14.00\">samples = 785</text>\n",
       "<text text-anchor=\"middle\" x=\"681.5\" y=\"-96.8\" font-family=\"Times,serif\" font-size=\"14.00\">value = [174, 120, 25, 13, 194, 171, 196, 63, 108, 138]</text>\n",
       "</g>\n",
       "<!-- 0&#45;&gt;4 -->\n",
       "<g id=\"edge4\" class=\"edge\">\n",
       "<title>0&#45;&gt;4</title>\n",
       "<path fill=\"none\" stroke=\"black\" d=\"M576.15,-192.88C590.8,-183.3 606.92,-172.76 622.06,-162.86\"/>\n",
       "<polygon fill=\"black\" stroke=\"black\" points=\"624.38,-165.53 630.84,-157.12 620.55,-159.67 624.38,-165.53\"/>\n",
       "<text text-anchor=\"middle\" x=\"625.72\" y=\"-177.89\" font-family=\"Times,serif\" font-size=\"14.00\">False</text>\n",
       "</g>\n",
       "<!-- 2 -->\n",
       "<g id=\"node3\" class=\"node\">\n",
       "<title>2</title>\n",
       "<polygon fill=\"#9af2ad\" stroke=\"black\" points=\"239,-53 0,-53 0,0 239,0 239,-53\"/>\n",
       "<text text-anchor=\"middle\" x=\"119.5\" y=\"-37.8\" font-family=\"Times,serif\" font-size=\"14.00\">gini = 0.618</text>\n",
       "<text text-anchor=\"middle\" x=\"119.5\" y=\"-22.8\" font-family=\"Times,serif\" font-size=\"14.00\">samples = 145</text>\n",
       "<text text-anchor=\"middle\" x=\"119.5\" y=\"-7.8\" font-family=\"Times,serif\" font-size=\"14.00\">value = [4, 5, 1, 129, 1, 1, 0, 21, 32, 29]</text>\n",
       "</g>\n",
       "<!-- 1&#45;&gt;2 -->\n",
       "<g id=\"edge2\" class=\"edge\">\n",
       "<title>1&#45;&gt;2</title>\n",
       "<path fill=\"none\" stroke=\"black\" d=\"M282.71,-88.95C254.76,-78.43 224.07,-66.87 196.91,-56.64\"/>\n",
       "<polygon fill=\"black\" stroke=\"black\" points=\"198.05,-53.33 187.46,-53.09 195.59,-59.89 198.05,-53.33\"/>\n",
       "</g>\n",
       "<!-- 3 -->\n",
       "<g id=\"node4\" class=\"node\">\n",
       "<title>3</title>\n",
       "<polygon fill=\"#edfbe4\" stroke=\"black\" points=\"510,-53 257,-53 257,0 510,0 510,-53\"/>\n",
       "<text text-anchor=\"middle\" x=\"383.5\" y=\"-37.8\" font-family=\"Times,serif\" font-size=\"14.00\">gini = 0.743</text>\n",
       "<text text-anchor=\"middle\" x=\"383.5\" y=\"-22.8\" font-family=\"Times,serif\" font-size=\"14.00\">samples = 234</text>\n",
       "<text text-anchor=\"middle\" x=\"383.5\" y=\"-7.8\" font-family=\"Times,serif\" font-size=\"14.00\">value = [4, 42, 142, 40, 0, 1, 2, 105, 30, 6]</text>\n",
       "</g>\n",
       "<!-- 1&#45;&gt;3 -->\n",
       "<g id=\"edge3\" class=\"edge\">\n",
       "<title>1&#45;&gt;3</title>\n",
       "<path fill=\"none\" stroke=\"black\" d=\"M375.05,-88.95C376.19,-80.62 377.43,-71.65 378.59,-63.2\"/>\n",
       "<polygon fill=\"black\" stroke=\"black\" points=\"382.06,-63.62 379.96,-53.24 375.13,-62.67 382.06,-63.62\"/>\n",
       "</g>\n",
       "<!-- 5 -->\n",
       "<g id=\"node6\" class=\"node\">\n",
       "<title>5</title>\n",
       "<polygon fill=\"#eeac7d\" stroke=\"black\" points=\"786,-53 553,-53 553,0 786,0 786,-53\"/>\n",
       "<text text-anchor=\"middle\" x=\"669.5\" y=\"-37.8\" font-family=\"Times,serif\" font-size=\"14.00\">gini = 0.48</text>\n",
       "<text text-anchor=\"middle\" x=\"669.5\" y=\"-22.8\" font-family=\"Times,serif\" font-size=\"14.00\">samples = 155</text>\n",
       "<text text-anchor=\"middle\" x=\"669.5\" y=\"-7.8\" font-family=\"Times,serif\" font-size=\"14.00\">value = [164, 0, 3, 0, 5, 23, 7, 0, 1, 31]</text>\n",
       "</g>\n",
       "<!-- 4&#45;&gt;5 -->\n",
       "<g id=\"edge5\" class=\"edge\">\n",
       "<title>4&#45;&gt;5</title>\n",
       "<path fill=\"none\" stroke=\"black\" d=\"M677.3,-88.95C676.25,-80.62 675.11,-71.65 674.03,-63.2\"/>\n",
       "<polygon fill=\"black\" stroke=\"black\" points=\"677.5,-62.72 672.77,-53.24 670.56,-63.6 677.5,-62.72\"/>\n",
       "</g>\n",
       "<!-- 6 -->\n",
       "<g id=\"node7\" class=\"node\">\n",
       "<title>6</title>\n",
       "<polygon fill=\"#ffffff\" stroke=\"black\" points=\"1118.5,-53 804.5,-53 804.5,0 1118.5,0 1118.5,-53\"/>\n",
       "<text text-anchor=\"middle\" x=\"961.5\" y=\"-37.8\" font-family=\"Times,serif\" font-size=\"14.00\">gini = 0.856</text>\n",
       "<text text-anchor=\"middle\" x=\"961.5\" y=\"-22.8\" font-family=\"Times,serif\" font-size=\"14.00\">samples = 630</text>\n",
       "<text text-anchor=\"middle\" x=\"961.5\" y=\"-7.8\" font-family=\"Times,serif\" font-size=\"14.00\">value = [10, 120, 22, 13, 189, 148, 189, 63, 107, 107]</text>\n",
       "</g>\n",
       "<!-- 4&#45;&gt;6 -->\n",
       "<g id=\"edge6\" class=\"edge\">\n",
       "<title>4&#45;&gt;6</title>\n",
       "<path fill=\"none\" stroke=\"black\" d=\"M779.43,-88.95C810.88,-78.33 845.45,-66.67 875.94,-56.38\"/>\n",
       "<polygon fill=\"black\" stroke=\"black\" points=\"877.33,-59.6 885.69,-53.09 875.09,-52.97 877.33,-59.6\"/>\n",
       "</g>\n",
       "</g>\n",
       "</svg>\n"
      ],
      "text/plain": [
       "<graphviz.files.Source at 0x7f904822fd00>"
      ]
     },
     "execution_count": 29,
     "metadata": {},
     "output_type": "execute_result"
    }
   ],
   "source": [
    "estimator = model.estimators_[5]\n",
    "dot_data = tree.export_graphviz(estimator, out_file=None, filled=True)\n",
    "\n",
    "# Draw graph\n",
    "graph = graphviz.Source(dot_data, format=\"png\") \n",
    "graph\n"
   ]
  },
  {
   "cell_type": "markdown",
   "metadata": {
    "id": "XbQMGP21TIqj"
   },
   "source": [
    "## Experiment"
   ]
  },
  {
   "cell_type": "code",
   "execution_count": 30,
   "metadata": {
    "id": "OB5ZLkd-TIqk"
   },
   "outputs": [
    {
     "name": "stdout",
     "output_type": "stream",
     "text": [
      "Accuracy on Training 0.8100208768267223\n",
      "Accuracy on Test 0.7916666666666666\n",
      "Accuracy on Training 1.0\n",
      "Accuracy on Test 0.9694444444444444\n",
      "Accuracy on Training 0.6082115518441197\n",
      "Accuracy on Test 0.5472222222222223\n",
      "Accuracy on Training 0.8211551844119693\n",
      "Accuracy on Test 0.7555555555555555\n"
     ]
    }
   ],
   "source": [
    "from sklearn.ensemble import RandomForestClassifier\n",
    "from sklearn.model_selection import train_test_split\n",
    "from sklearn.datasets import load_digits\n",
    "from sklearn.tree import DecisionTreeClassifier\n",
    "\n",
    "\n",
    "X_digits, y_digits = load_digits(return_X_y=True)\n",
    "\n",
    "trainData,testData,trainLabel,testLabel =train_test_split(X_digits,y_digits,test_size=0.2)\n",
    "\n",
    "model_RN1 = RandomForestClassifier(n_estimators=100,max_depth=2)\n",
    "model_RN1.fit(trainData, trainLabel)\n",
    "print(\"Accuracy on Training\",model_RN1.score(trainData,trainLabel))\n",
    "print(\"Accuracy on Test\",model_RN1.score(testData,testLabel))\n",
    "\n",
    "model_RN2 = RandomForestClassifier(n_estimators=100,max_depth=12)\n",
    "model_RN2.fit(trainData, trainLabel)\n",
    "print(\"Accuracy on Training\",model_RN2.score(trainData,trainLabel))\n",
    "print(\"Accuracy on Test\",model_RN2.score(testData,testLabel))\n",
    "\n",
    "model_D3 = DecisionTreeClassifier(max_depth=4)\n",
    "model_D3.fit(trainData, trainLabel)\n",
    "print(\"Accuracy on Training\",model_D3.score(trainData,trainLabel))\n",
    "print(\"Accuracy on Test\",model_D3.score(testData,testLabel))\n",
    "\n",
    "model_D36 = DecisionTreeClassifier(max_depth=6)\n",
    "model_D36.fit(trainData, trainLabel)\n",
    "print(\"Accuracy on Training\",model_D36.score(trainData,trainLabel))\n",
    "print(\"Accuracy on Test\",model_D36.score(testData,testLabel))\n"
   ]
  }
 ],
 "metadata": {
  "colab": {
   "name": "Data Mining Lab 1 - Jan 22nd by Keon .ipynb",
   "provenance": [],
   "toc_visible": true
  },
  "kernelspec": {
   "display_name": "Python 3 (ipykernel)",
   "language": "python",
   "name": "python3"
  },
  "language_info": {
   "codemirror_mode": {
    "name": "ipython",
    "version": 3
   },
   "file_extension": ".py",
   "mimetype": "text/x-python",
   "name": "python",
   "nbconvert_exporter": "python",
   "pygments_lexer": "ipython3",
   "version": "3.9.7"
  }
 },
 "nbformat": 4,
 "nbformat_minor": 1
}
