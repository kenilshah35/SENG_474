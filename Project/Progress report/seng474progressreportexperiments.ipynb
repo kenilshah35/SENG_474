{
 "cells": [
  {
   "cell_type": "code",
   "execution_count": null,
   "id": "551e5e82",
   "metadata": {},
   "outputs": [],
   "source": [
    "import matplotlib.pyplot as plt\n",
    "import pandas as pd\n",
    "import numpy as np\n",
    "from sklearn.model_selection import train_test_split\n",
    "from sklearn.linear_model import LogisticRegression\n",
    "from sklearn.svm import LinearSVC\n",
    "from sklearn import preprocessing\n",
    "from sklearn.model_selection import cross_val_score\n",
    "from sklearn import svm\n",
    "from sklearn.neighbors import KNeighborsClassifier\n",
    "from sklearn.tree import DecisionTreeClassifier\n",
    "from sklearn.ensemble import RandomForestClassifier\n",
    "from sklearn.naive_bayes import GaussianNB\n",
    "import os"
   ]
  },
  {
   "cell_type": "code",
   "execution_count": null,
   "id": "6a8e3579",
   "metadata": {},
   "outputs": [],
   "source": [
    "song_data = pd.read_csv(\"dataset.csv\", sep = ',')\n",
    "song_data = song_data[song_data['Genre'] != 'n-a']\n",
    "song_data = song_data[song_data.iloc[:, 0].str.contains(\"Global\") == True]\n",
    "le = preprocessing.LabelEncoder()\n",
    "X = song_data[['Title', 'Artist', 'Explicit', 'danceability', 'energy', 'loudness', 'liveliness', 'valence', 'tempo', 'duration_ms', 'acoustics']]\n",
    "X = X.apply(lambda col: le.fit_transform(col.astype(str)), axis=0, result_type='expand')\n",
    "#y = song_data[['Genre']]\n",
    "y = song_data[['Genre_new']]\n",
    "y = y.apply(lambda col: le.fit_transform(col.astype(str)), axis=0, result_type='expand')\n",
    "X_train3, X_test3, y_train3, y_test3 = train_test_split(X, y, test_size=0.2)"
   ]
  },
  {
   "cell_type": "code",
   "execution_count": null,
   "id": "53a05c62",
   "metadata": {},
   "outputs": [],
   "source": [
    "normalized_X=(X-X.min())/(X.max()-X.min())\n",
    "\n",
    "X_train3, X_test3, y_train3, y_test3 = train_test_split(normalized_X, y, test_size=0.2)"
   ]
  },
  {
   "cell_type": "code",
   "execution_count": null,
   "id": "cfd545da",
   "metadata": {},
   "outputs": [],
   "source": [
    "xcols = ['Title', 'Artist', 'Explicit', 'danceability', 'energy', 'loudness', 'liveliness', 'valence', 'tempo', 'duration_ms', 'acoustics']\n",
    "normalized_X = X.values\n",
    "std_scalor = preprocessing.StandardScaler()\n",
    "X_scaled = std_scalor.fit_transform(normalized_X)\n",
    "normalized_X = pd.DataFrame(X_scaled, columns=xcols)\n",
    "\n",
    "X_train3, X_test3, y_train3, y_test3 = train_test_split(normalized_X, y, test_size=0.2)\n",
    "normalized_X.head()"
   ]
  },
  {
   "cell_type": "code",
   "execution_count": null,
   "id": "e73528ae",
   "metadata": {},
   "outputs": [],
   "source": [
    "X_train2 = X_train.iloc[0:7000,:]\n",
    "X_test2 = X_test.iloc[0:1200,:]\n",
    "y_train2 = y_train.iloc[0:7000,:]\n",
    "y_test2 = y_test.iloc[0:1200,:]\n",
    "print(os.cpu_count())\n",
    "# print(X_train.shape)\n",
    "# print(X_test.shape)\n",
    "# print(y_train.shape)\n",
    "# print(y_test.shape)"
   ]
  },
  {
   "cell_type": "code",
   "execution_count": null,
   "id": "4e016dd0",
   "metadata": {},
   "outputs": [],
   "source": [
    "%%time\n",
    "#Logistic Refression with cross validation\n",
    "\n",
    "#Training accuracy logistic regression with 5-fold cross validation(default)\n",
    "#clf = LogisticRegression(multi_class='ovr', max_iter=10000)\n",
    "clf = LogisticRegression(C=1, solver=\"lbfgs\", penalty=\"l2\", max_iter = 100000000, verbose = 1, n_jobs = 15)\n",
    "clf.fit(X_train3,y_train3.values.ravel())\n",
    "#train_accuracy_LR = cross_val_score(clf, X_train2, y_train2.values.ravel()).mean()\n",
    "train_accuracy_LR = clf.score(X_train3, y_train3.values.ravel())\n",
    "\n",
    "#Test accuracy\n",
    "test_accuracy_LR = clf.score(X_test3, y_test3.values.ravel())\n",
    "\n",
    "print(\"Training accuracy \" + str(train_accuracy_LR))\n",
    "print(\"Training error: \" + str(1.0-train_accuracy_LR))\n",
    "print(\"Test accuracy \" + str(test_accuracy_LR))\n",
    "print(\"Test error: \" + str(1.0-test_accuracy_LR))"
   ]
  },
  {
   "cell_type": "code",
   "execution_count": null,
   "id": "07b26f8c",
   "metadata": {},
   "outputs": [],
   "source": [
    "%%time\n",
    "clf = LinearSVC(max_iter = 10000000, verbose = 1)\n",
    "#clf = svm.SVC(C=1, kernel='linear', verbose = True)\n",
    "clf.fit(X_train3, y_train3.values.ravel())\n",
    "# train_accuracy_svm = cross_val_score(clf, X_train2, y_train2.values.ravel()).mean()\n",
    "\n",
    "# #Test accuracy\n",
    "# test_accuracy_svm = clf.score(X_test2, y_test2.values.ravel())\n",
    "\n",
    "# print(\"Training accuracy \" + str(train_accuracy_svm))\n",
    "# print(\"Training error: \" + str(1.0-train_accuracy_svm))\n",
    "# print(\"Test accuracy \" + str(test_accuracy_svm))\n",
    "# print(\"Test error: \" + str(1.0-test_accuracy_svm))\n",
    "\n",
    "print(\"Training Error: \" + str(1.0-clf.score(X_train3, y_train3)))\n",
    "print(\"Test Error: \" + str(1.0-clf.score(X_test3, y_test3)))"
   ]
  },
  {
   "cell_type": "code",
   "execution_count": null,
   "id": "75442ef1",
   "metadata": {},
   "outputs": [],
   "source": [
    "%%time\n",
    "clf = GaussianNB()\n",
    "clf.fit(X_train3, y_train3.values.ravel())\n",
    "print(\"Training Error: \" + str(1.0-clf.score(X_train, y_train)))\n",
    "print(\"Test Error: \" + str(1.0-clf.score(X_test, y_test)))"
   ]
  },
  {
   "cell_type": "code",
   "execution_count": null,
   "id": "03753fba",
   "metadata": {},
   "outputs": [],
   "source": [
    "%%time\n",
    "clf = KNeighborsClassifier()\n",
    "clf.fit(X_train3, y_train3.values.ravel())\n",
    "# train_accuracy_kn = cross_val_score(clf, X_train, y_train.values.ravel()).mean()\n",
    "\n",
    "# #Test accuracy\n",
    "# test_accuracy_kn = clf.score(X_test, y_test)\n",
    "\n",
    "# print(\"Training error: \" + str(1.0-train_accuracy_kn))\n",
    "# print(\"Test error: \" + str(1.0-test_accuracy_kn))\n",
    "print(\"Training Error: \" + str(1.0-clf.score(X_train3, y_train3)))\n",
    "print(\"Test Error: \" + str(1.0-clf.score(X_test3, y_test3)))"
   ]
  },
  {
   "cell_type": "code",
   "execution_count": null,
   "id": "10f717ec",
   "metadata": {},
   "outputs": [],
   "source": [
    "%%time\n",
    "clf = DecisionTreeClassifier()\n",
    "clf.fit(X_train3, y_train3.values.ravel())\n",
    "# train_accuracy_dt = cross_val_score(clf, X_train2, y_train2).mean()\n",
    "\n",
    "# #Test accuracy\n",
    "# test_accuracy_dt = clf.score(X_test2, y_test2)\n",
    "\n",
    "# print(\"Training error: \" + str(1.0-train_accuracy_dt))\n",
    "# print(\"Test error: \" + str(1.0-test_accuracy_dt))\n",
    "\n",
    "print(\"Training Error: \" + str(1.0-clf.score(X_train3, y_train3)))\n",
    "print(\"Test Error: \" + str(1.0-clf.score(X_test3, y_test3)))"
   ]
  },
  {
   "cell_type": "code",
   "execution_count": null,
   "id": "250fec0d",
   "metadata": {},
   "outputs": [],
   "source": [
    "%%time\n",
    "clf = RandomForestClassifier(max_depth = 12)\n",
    "clf.fit(X_train3, y_train3.values.ravel())\n",
    "# train_accuracy_rf = cross_val_score(clf, X_train, y_train.values.ravel()).mean()\n",
    "\n",
    "# #Test accuracy\n",
    "# test_accuracy_rf = clf.score(X_test, y_test)\n",
    "\n",
    "# print(\"Training error: \" + str(1.0-train_accuracy_rf))\n",
    "# print(\"Test error: \" + str(1.0-test_accuracy_rf))\n",
    "print(\"Training Error: \" + str(1.0-clf.score(X_train3, y_train3)))\n",
    "print(\"Test Error: \" + str(1.0-clf.score(X_test3, y_test3)))"
   ]
  },
  {
   "cell_type": "code",
   "execution_count": null,
   "id": "9f2f2788",
   "metadata": {},
   "outputs": [],
   "source": []
  },
  {
   "cell_type": "code",
   "execution_count": null,
   "id": "594df7d8",
   "metadata": {},
   "outputs": [],
   "source": [
    "tracc = [train_accuracy_LR, train_accuracy_svm, train_accuracy_kn, train_accuracy_dt, train_accuracy_rf]\n",
    "teacc = [test_accuracy_LR, test_accuracy_svm, test_accuracy_kn, test_accuracy_dt, test_accuracy_rf]\n",
    "models = ['Logistic Regression', 'Support Vector Machine', 'K nearest neighbors', 'Decision Trees', 'Random Forests']"
   ]
  },
  {
   "cell_type": "code",
   "execution_count": null,
   "id": "f0e83b9f",
   "metadata": {},
   "outputs": [],
   "source": [
    "fig = plt.figure()\n",
    "plt.bar(models, tracc)\n",
    "plt.title('Train Accuracy')\n",
    "plt.show()"
   ]
  },
  {
   "cell_type": "code",
   "execution_count": null,
   "id": "5d77d971",
   "metadata": {},
   "outputs": [],
   "source": [
    "fig = plt.figure()\n",
    "plt.bar(models, teacc)\n",
    "plt.title('Test Accuracy')\n",
    "plt.show()"
   ]
  },
  {
   "cell_type": "code",
   "execution_count": null,
   "id": "ca15ad9a",
   "metadata": {},
   "outputs": [],
   "source": [
    "print(\"Best test accuracy\")\n",
    "print(max(teacc))\n",
    "print(models[teacc.index(max(teacc))])"
   ]
  },
  {
   "cell_type": "code",
   "execution_count": null,
   "id": "61eb2ad2",
   "metadata": {},
   "outputs": [],
   "source": []
  }
 ],
 "metadata": {
  "kernelspec": {
   "display_name": "Python 3 (ipykernel)",
   "language": "python",
   "name": "python3"
  },
  "language_info": {
   "codemirror_mode": {
    "name": "ipython",
    "version": 3
   },
   "file_extension": ".py",
   "mimetype": "text/x-python",
   "name": "python",
   "nbconvert_exporter": "python",
   "pygments_lexer": "ipython3",
   "version": "3.9.7"
  }
 },
 "nbformat": 4,
 "nbformat_minor": 5
}
