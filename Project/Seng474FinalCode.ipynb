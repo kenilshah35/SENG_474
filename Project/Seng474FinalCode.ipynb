{
 "cells": [
  {
   "cell_type": "code",
   "execution_count": null,
   "id": "e2896402-6c95-4e15-8140-92e57e3289d6",
   "metadata": {
    "id": "e2896402-6c95-4e15-8140-92e57e3289d6"
   },
   "outputs": [],
   "source": [
    "import matplotlib.pyplot as plt\n",
    "import pandas as pd\n",
    "import numpy as np\n",
    "from sklearn.model_selection import train_test_split\n",
    "from sklearn.linear_model import LogisticRegression\n",
    "from sklearn.svm import LinearSVC\n",
    "from sklearn import preprocessing\n",
    "from sklearn.model_selection import cross_val_score\n",
    "from sklearn import svm\n",
    "from sklearn.neighbors import KNeighborsClassifier\n",
    "from sklearn.tree import DecisionTreeClassifier\n",
    "from sklearn.ensemble import RandomForestClassifier\n",
    "from sklearn.naive_bayes import GaussianNB\n",
    "import os\n",
    "from sklearn.feature_selection import RFECV\n",
    "from sklearn.feature_selection import RFE\n",
    "from sklearn.model_selection import StratifiedKFold\n",
    "from sklearn.model_selection import GridSearchCV\n",
    "from sklearn.feature_selection import SelectFromModel\n",
    "from sklearn.metrics import accuracy_score\n",
    "from sklearn.model_selection import RepeatedStratifiedKFold\n",
    "from sklearn.feature_selection import SelectKBest\n",
    "from sklearn.feature_selection import f_classif\n",
    "from sklearn.feature_selection import chi2\n",
    "from sklearn.ensemble import ExtraTreesClassifier"
   ]
  },
  {
   "cell_type": "markdown",
   "id": "15c3a8a8-461e-499c-a05b-90f1e8df1568",
   "metadata": {
    "id": "15c3a8a8-461e-499c-a05b-90f1e8df1568"
   },
   "source": [
    "#  Splitting Artists and Applying Label Binarizer"
   ]
  },
  {
   "cell_type": "code",
   "execution_count": null,
   "id": "089a861b-85a6-48f8-9d63-1da0d5da0400",
   "metadata": {
    "id": "089a861b-85a6-48f8-9d63-1da0d5da0400",
    "outputId": "a2eb1e61-7a37-4f19-e968-a88a0ecae4a0"
   },
   "outputs": [
    {
     "name": "stderr",
     "output_type": "stream",
     "text": [
      "C:\\Users\\Bismarck\\AppData\\Local\\Temp\\ipykernel_7132\\200972194.py:2: DtypeWarning: Columns (7,8,11,12,13,14,15,16,17,18,19,20,21,22,23,24,25) have mixed types. Specify dtype option on import or set low_memory=False.\n",
      "  song_data = pd.read_csv(\"dataset.csv\", sep = ',')\n"
     ]
    }
   ],
   "source": [
    "# Loading Dataset\n",
    "song_data = pd.read_csv(\"dataset.csv\", sep = ',')\n",
    "\n",
    "# Trimming Dataset\n",
    "song_data = song_data[song_data['Genre'] != 'n-a']\n",
    "song_data = song_data[song_data.iloc[:, 0].str.contains(\"Global\") == True].reset_index(drop=True)\n",
    "\n",
    "#Drop rows with nan values\n",
    "allcols = ['Title', 'Artist','Genre_new','Explicit_false','Explicit_true','danceability','energy','key','loudness','mode','speechiness','acoustics','instrumentalness','liveliness','valence','tempo','duration_ms','time_signature','syuzhet_norm','bing_norm_negative','bing_norm_neutral','bing_norm_positive','afinn_norm','nrc_norm','n_words','anger_norm2','anticipation_norm2','disgust_norm2','fear_norm2','joy_norm2','sadness_norm2','surprise_norm2','trust_norm2','negative_norm2','positive_norm2','negative_bog_jr','positive_bog_jr','Negative_Bayes','Neutral_Bayes','Positive_Bayes','Celebrate','Desire','Explore','Fun','Hope','Love','Nostalgia','Thug','Popu_max','Top10_dummy','Top50_dummy']\n",
    "song_data = song_data[allcols]\n",
    "song_data = song_data.dropna()\n",
    "\n",
    "\n",
    "### Code for preprocessing with splitting artists ###\n",
    "# use regex on whole column to make DataFrame \n",
    "artists_before = song_data[['Artist']]\n",
    "artists_new = artists_before.Artist.str.split(pat=' - ',expand=True)\n",
    "\n",
    "# Create a list of lists containing the artist(s) for each song\n",
    "artists_list = []\n",
    "for i in range(artists_new.shape[0]):\n",
    "    artists_list.append(list(filter(None, list(set(artists_new.iloc[i])))))\n",
    "\n",
    "# Label Binarizer\n",
    "mlb = preprocessing.MultiLabelBinarizer()\n",
    "ALB = mlb.fit_transform(artists_list)\n",
    "\n",
    "# DataFrame with Binarized columns, sorted by artist name\n",
    "ALB_DF = pd.DataFrame(ALB, columns=[\"Artist_\" + str(i) for i in mlb.classes_])\n",
    "### Code for preprocessing with splitting artists ###\n",
    "\n",
    "\n",
    "# Chosen Features (Can change based on feature selection experiments)\n",
    "xcols = ['Explicit_false','Explicit_true','danceability','energy','key','loudness','mode','speechiness','acoustics','instrumentalness','liveliness','valence','tempo','duration_ms','time_signature','syuzhet_norm','bing_norm_negative','bing_norm_neutral','bing_norm_positive','afinn_norm','nrc_norm','n_words','anger_norm2','anticipation_norm2','disgust_norm2','fear_norm2','joy_norm2','sadness_norm2','surprise_norm2','trust_norm2','negative_norm2','positive_norm2','negative_bog_jr','positive_bog_jr','Negative_Bayes','Neutral_Bayes','Positive_Bayes','Celebrate','Desire','Explore','Fun','Hope','Love','Nostalgia','Thug','Popu_max','Top10_dummy','Top50_dummy']\n",
    "\n",
    "X4 = song_data[xcols]\n",
    "\n",
    "# Standard Scaler Preprocessing on chosen numerical features\n",
    "normalized_X = X4.values\n",
    "std_scalor = preprocessing.StandardScaler()\n",
    "X_scaled = std_scalor.fit_transform(normalized_X)\n",
    "normalized_X = pd.DataFrame(X_scaled, columns=xcols)\n",
    "\n",
    "# Combining both DataFrames (Binarized Artists + Preprocessed numerical features)\n",
    "XT = pd.concat([normalized_X.reset_index(drop=True), ALB_DF.reset_index(drop=True)], axis=1)\n",
    "\n",
    "# Target Labels\n",
    "y = song_data[['Genre_new']].reset_index(drop=True)\n",
    "\n",
    "# Combining some genres into larger groups (Can add more here if necessary)\n",
    "replace_dict = {\n",
    "    'rap':'hip hop',\n",
    "    'metal':'rock',\n",
    "    'trap':'hip hop',\n",
    "    'house': 'dance/electronic',\n",
    "    'bolero':'else',\n",
    "    'reggaeton':'else' #Use this reggaeton grouping in case of drop rows with nan values\n",
    "}\n",
    "\n",
    "ybetter = y['Genre_new'].replace(replace_dict)\n",
    "\n",
    "YDF = pd.DataFrame(ybetter)"
   ]
  },
  {
   "cell_type": "code",
   "execution_count": null,
   "id": "f386aaf9-f236-4b8b-a3c4-d7edba1964c1",
   "metadata": {
    "id": "f386aaf9-f236-4b8b-a3c4-d7edba1964c1",
    "outputId": "89344c34-058c-4db8-b227-ac0ba4d5f1a5"
   },
   "outputs": [
    {
     "name": "stdout",
     "output_type": "stream",
     "text": [
      "(3100, 1000)\n",
      "(3100, 1)\n",
      "(3100, 51)\n",
      "False\n",
      "False\n",
      "False\n"
     ]
    }
   ],
   "source": [
    "print(XT.shape)\n",
    "print(YDF.shape)\n",
    "print(song_data.shape)\n",
    "print(XT.isnull().values.any())\n",
    "print(YDF.isnull().values.any())\n",
    "print(song_data.isnull().values.any())"
   ]
  },
  {
   "cell_type": "code",
   "execution_count": null,
   "id": "13b49c01-a278-4062-8ad5-29e8bf5a4dd3",
   "metadata": {
    "id": "13b49c01-a278-4062-8ad5-29e8bf5a4dd3"
   },
   "outputs": [],
   "source": [
    "for col in xcols:\n",
    "    if XT[col].isnull().values.any():\n",
    "        print(col)"
   ]
  },
  {
   "cell_type": "code",
   "execution_count": null,
   "id": "6f021515-9ee1-4fa3-b3bb-34b62185e797",
   "metadata": {
    "id": "6f021515-9ee1-4fa3-b3bb-34b62185e797",
    "outputId": "52ae0fa0-bfd6-4b4a-b350-fd1459cd8c17"
   },
   "outputs": [
    {
     "data": {
      "text/plain": [
       "hip hop             1241\n",
       "pop                 1155\n",
       "dance/electronic     189\n",
       "rock                 177\n",
       "r&b/soul             125\n",
       "boy band              63\n",
       "k-pop                 42\n",
       "else                  37\n",
       "indie                 35\n",
       "country               19\n",
       "latin                  9\n",
       "funk                   8\n",
       "Name: Genre_new, dtype: int64"
      ]
     },
     "execution_count": 5,
     "metadata": {},
     "output_type": "execute_result"
    }
   ],
   "source": [
    "YDF['Genre_new'].value_counts()"
   ]
  },
  {
   "cell_type": "markdown",
   "id": "edc683b4-2ebd-4153-9c68-29f66c643ff1",
   "metadata": {
    "id": "edc683b4-2ebd-4153-9c68-29f66c643ff1"
   },
   "source": [
    "# Split dataset into train and test"
   ]
  },
  {
   "cell_type": "code",
   "execution_count": null,
   "id": "72386c90-0df2-4971-9009-f060d493406a",
   "metadata": {
    "id": "72386c90-0df2-4971-9009-f060d493406a",
    "outputId": "7057ddea-46b1-46cd-d544-c25ad5ef107f"
   },
   "outputs": [
    {
     "name": "stdout",
     "output_type": "stream",
     "text": [
      "(2480, 1000)\n",
      "(620, 1000)\n"
     ]
    }
   ],
   "source": [
    "y=YDF\n",
    "X_train, X_test, Y_train, Y_test = train_test_split(XT, y, test_size=0.2)\n",
    "print(X_train.shape)\n",
    "print(X_test.shape)"
   ]
  },
  {
   "cell_type": "code",
   "execution_count": null,
   "id": "fba2f472-9309-4ab5-a73d-ea9937f387b5",
   "metadata": {
    "id": "fba2f472-9309-4ab5-a73d-ea9937f387b5",
    "outputId": "6c7e6625-d7c4-4c72-8bfa-45056a0213ed"
   },
   "outputs": [
    {
     "data": {
      "text/plain": [
       "hip hop             999\n",
       "pop                 929\n",
       "rock                147\n",
       "dance/electronic    139\n",
       "r&b/soul            100\n",
       "boy band             47\n",
       "k-pop                34\n",
       "else                 31\n",
       "indie                27\n",
       "country              13\n",
       "funk                  8\n",
       "latin                 6\n",
       "Name: Genre_new, dtype: int64"
      ]
     },
     "execution_count": 7,
     "metadata": {},
     "output_type": "execute_result"
    }
   ],
   "source": [
    "Y_train['Genre_new'].value_counts()"
   ]
  },
  {
   "cell_type": "markdown",
   "id": "93d085e2-5241-461f-ab14-484d89940352",
   "metadata": {
    "id": "93d085e2-5241-461f-ab14-484d89940352"
   },
   "source": [
    "# ANOVA F measure\n",
    "\n",
    "https://machinelearningmastery.com/feature-selection-with-real-and-categorical-data/ "
   ]
  },
  {
   "cell_type": "code",
   "execution_count": null,
   "id": "9869db21-32ec-4480-a430-403354a77a1a",
   "metadata": {
    "id": "9869db21-32ec-4480-a430-403354a77a1a",
    "outputId": "5ebe5e69-ff3a-4c18-a9c1-624f772c89c9"
   },
   "outputs": [
    {
     "name": "stderr",
     "output_type": "stream",
     "text": [
      "C:\\Users\\Bismarck\\AppData\\Local\\Packages\\PythonSoftwareFoundation.Python.3.9_qbz5n2kfra8p0\\LocalCache\\local-packages\\Python39\\site-packages\\sklearn\\model_selection\\_split.py:676: UserWarning: The least populated class in y has only 4 members, which is less than n_splits=5.\n",
      "  warnings.warn(\n",
      "C:\\Users\\Bismarck\\AppData\\Local\\Packages\\PythonSoftwareFoundation.Python.3.9_qbz5n2kfra8p0\\LocalCache\\local-packages\\Python39\\site-packages\\sklearn\\model_selection\\_split.py:676: UserWarning: The least populated class in y has only 4 members, which is less than n_splits=5.\n",
      "  warnings.warn(\n",
      "C:\\Users\\Bismarck\\AppData\\Local\\Packages\\PythonSoftwareFoundation.Python.3.9_qbz5n2kfra8p0\\LocalCache\\local-packages\\Python39\\site-packages\\sklearn\\model_selection\\_split.py:676: UserWarning: The least populated class in y has only 3 members, which is less than n_splits=5.\n",
      "  warnings.warn(\n",
      "C:\\Users\\Bismarck\\AppData\\Local\\Packages\\PythonSoftwareFoundation.Python.3.9_qbz5n2kfra8p0\\LocalCache\\local-packages\\Python39\\site-packages\\sklearn\\model_selection\\_split.py:676: UserWarning: The least populated class in y has only 4 members, which is less than n_splits=5.\n",
      "  warnings.warn(\n",
      "C:\\Users\\Bismarck\\AppData\\Local\\Packages\\PythonSoftwareFoundation.Python.3.9_qbz5n2kfra8p0\\LocalCache\\local-packages\\Python39\\site-packages\\sklearn\\model_selection\\_split.py:676: UserWarning: The least populated class in y has only 4 members, which is less than n_splits=5.\n",
      "  warnings.warn(\n",
      "C:\\Users\\Bismarck\\AppData\\Local\\Packages\\PythonSoftwareFoundation.Python.3.9_qbz5n2kfra8p0\\LocalCache\\local-packages\\Python39\\site-packages\\sklearn\\model_selection\\_split.py:676: UserWarning: The least populated class in y has only 4 members, which is less than n_splits=5.\n",
      "  warnings.warn(\n"
     ]
    },
    {
     "name": "stdout",
     "output_type": "stream",
     "text": [
      "CPU times: total: 1min 27s\n",
      "Wall time: 4min 44s\n"
     ]
    }
   ],
   "source": [
    "%%time\n",
    "\n",
    "num_features = []\n",
    "features_f = []\n",
    "svm1 = []\n",
    "svm2 = []\n",
    "xcols = np.array(xcols)\n",
    "\n",
    "#Range needs to change depending on feature vector length \n",
    "for count in range(1,XT.shape[1],10):\n",
    "    #print(count)\n",
    "    clf_svm = LinearSVC(C=0.1,max_iter=100000000)\n",
    "    cv = StratifiedKFold(5)\n",
    "    \n",
    "    test = SelectKBest(score_func=f_classif, k = count)\n",
    "    X_F_measure = test.fit_transform(XT,y.values.ravel())\n",
    "    X_F_measure = pd.DataFrame(X_F_measure, columns=test.get_feature_names_out())\n",
    "    features_f.append(test.get_feature_names_out())\n",
    "    X_train2, X_test2, Y_train2, Y_test2 = train_test_split(X_F_measure, y, test_size=0.2)\n",
    "    \n",
    "    clf_svm.fit(X_train2, Y_train2.values.ravel())\n",
    "    svm1.append(cross_val_score(clf_svm, X_train2, Y_train2.values.ravel(), cv=cv, n_jobs=15).mean())\n",
    "    svm2.append(clf_svm.score(X_test2, Y_test2.values.ravel()))\n",
    "    \n",
    "    num_features.append(count)"
   ]
  },
  {
   "cell_type": "code",
   "execution_count": null,
   "id": "fdf1c19a-0c78-4d08-a0d1-ca572d3494c3",
   "metadata": {
    "id": "fdf1c19a-0c78-4d08-a0d1-ca572d3494c3",
    "outputId": "00f533d7-28f1-4bc4-f5e3-a36a73f402a5"
   },
   "outputs": [
    {
     "name": "stdout",
     "output_type": "stream",
     "text": [
      "['Decision Trees', 'Random Forests', 'K nearest neighbors', 'Logistic Regression', 'SVM']\n",
      "[0.14274193548387104]\n",
      "[0.1064516129032258]\n",
      "[791]\n"
     ]
    }
   ],
   "source": [
    "classifiers = ['Decision Trees','Random Forests','K nearest neighbors', 'Logistic Regression','SVM']\n",
    "train_acc_F_measure = []\n",
    "test_acc_F_measure = []\n",
    "best_num_feats = []\n",
    "\n",
    "# test_acc_F_measure.append(max(dt2))\n",
    "# best_num_feats.append(num_features[dt2.index(max(dt2))])\n",
    "# train_acc_F_measure.append(dt1[dt2.index(max(dt2))])\n",
    "\n",
    "# test_acc_F_measure.append(max(rf2))\n",
    "# best_num_feats.append(num_features[rf2.index(max(rf2))])\n",
    "# train_acc_F_measure.append(rf1[rf2.index(max(rf2))])\n",
    "\n",
    "# test_acc_F_measure.append(max(knn2))\n",
    "# best_num_feats.append(num_features[knn2.index(max(knn2))])\n",
    "# train_acc_F_measure.append(knn1[knn2.index(max(knn2))])\n",
    "\n",
    "# test_acc_F_measure.append(max(lr2))\n",
    "# best_num_feats.append(num_features[lr2.index(max(lr2))])\n",
    "# train_acc_F_measure.append(lr1[lr2.index(max(lr2))])\n",
    "\n",
    "test_acc_F_measure.append(max(svm2))\n",
    "best_num_feats.append(num_features[svm2.index(max(svm2))])\n",
    "train_acc_F_measure.append(svm1[svm2.index(max(svm2))])\n",
    "#print(features_f[svm2.index(max(svm2))])\n",
    "\n",
    "test_err_F = [(1-i) for i in test_acc_F_measure]\n",
    "train_err_F = [(1-j) for j in train_acc_F_measure]\n",
    "\n",
    "print(classifiers)\n",
    "print(train_err_F)\n",
    "print(test_err_F)\n",
    "print(best_num_feats)"
   ]
  },
  {
   "cell_type": "markdown",
   "id": "dde2e328-4a9f-4497-a075-16e0f46cbdbb",
   "metadata": {
    "id": "dde2e328-4a9f-4497-a075-16e0f46cbdbb"
   },
   "source": [
    "# SVC Fine Tuning"
   ]
  },
  {
   "cell_type": "code",
   "execution_count": null,
   "id": "8ea2bfa3-b995-4b2e-b720-462b63f27323",
   "metadata": {
    "id": "8ea2bfa3-b995-4b2e-b720-462b63f27323"
   },
   "outputs": [],
   "source": [
    "best_features = features_f[svm2.index(max(svm2))]\n",
    "X = XT[best_features]\n",
    "Y = YDF\n",
    "X_train, X_test, y_train, y_test = train_test_split(X, Y, test_size=0.2)"
   ]
  },
  {
   "cell_type": "code",
   "execution_count": null,
   "id": "1caf5eee-b24e-48a1-a68c-54d1e8e05a18",
   "metadata": {
    "id": "1caf5eee-b24e-48a1-a68c-54d1e8e05a18",
    "outputId": "2c722fb1-f0e8-4768-eb69-2ec958e0a8f8"
   },
   "outputs": [
    {
     "name": "stderr",
     "output_type": "stream",
     "text": [
      "C:\\Users\\Bismarck\\AppData\\Local\\Packages\\PythonSoftwareFoundation.Python.3.9_qbz5n2kfra8p0\\LocalCache\\local-packages\\Python39\\site-packages\\sklearn\\svm\\_base.py:1206: ConvergenceWarning: Liblinear failed to converge, increase the number of iterations.\n",
      "  warnings.warn(\n",
      "C:\\Users\\Bismarck\\AppData\\Local\\Packages\\PythonSoftwareFoundation.Python.3.9_qbz5n2kfra8p0\\LocalCache\\local-packages\\Python39\\site-packages\\sklearn\\svm\\_base.py:1206: ConvergenceWarning: Liblinear failed to converge, increase the number of iterations.\n",
      "  warnings.warn(\n",
      "C:\\Users\\Bismarck\\AppData\\Local\\Packages\\PythonSoftwareFoundation.Python.3.9_qbz5n2kfra8p0\\LocalCache\\local-packages\\Python39\\site-packages\\sklearn\\svm\\_base.py:1206: ConvergenceWarning: Liblinear failed to converge, increase the number of iterations.\n",
      "  warnings.warn(\n",
      "C:\\Users\\Bismarck\\AppData\\Local\\Packages\\PythonSoftwareFoundation.Python.3.9_qbz5n2kfra8p0\\LocalCache\\local-packages\\Python39\\site-packages\\sklearn\\svm\\_base.py:1206: ConvergenceWarning: Liblinear failed to converge, increase the number of iterations.\n",
      "  warnings.warn(\n",
      "C:\\Users\\Bismarck\\AppData\\Local\\Packages\\PythonSoftwareFoundation.Python.3.9_qbz5n2kfra8p0\\LocalCache\\local-packages\\Python39\\site-packages\\sklearn\\svm\\_base.py:1206: ConvergenceWarning: Liblinear failed to converge, increase the number of iterations.\n",
      "  warnings.warn(\n",
      "C:\\Users\\Bismarck\\AppData\\Local\\Packages\\PythonSoftwareFoundation.Python.3.9_qbz5n2kfra8p0\\LocalCache\\local-packages\\Python39\\site-packages\\sklearn\\svm\\_base.py:1206: ConvergenceWarning: Liblinear failed to converge, increase the number of iterations.\n",
      "  warnings.warn(\n",
      "C:\\Users\\Bismarck\\AppData\\Local\\Packages\\PythonSoftwareFoundation.Python.3.9_qbz5n2kfra8p0\\LocalCache\\local-packages\\Python39\\site-packages\\sklearn\\svm\\_base.py:1206: ConvergenceWarning: Liblinear failed to converge, increase the number of iterations.\n",
      "  warnings.warn(\n",
      "C:\\Users\\Bismarck\\AppData\\Local\\Packages\\PythonSoftwareFoundation.Python.3.9_qbz5n2kfra8p0\\LocalCache\\local-packages\\Python39\\site-packages\\sklearn\\svm\\_base.py:1206: ConvergenceWarning: Liblinear failed to converge, increase the number of iterations.\n",
      "  warnings.warn(\n",
      "C:\\Users\\Bismarck\\AppData\\Local\\Packages\\PythonSoftwareFoundation.Python.3.9_qbz5n2kfra8p0\\LocalCache\\local-packages\\Python39\\site-packages\\sklearn\\svm\\_base.py:1206: ConvergenceWarning: Liblinear failed to converge, increase the number of iterations.\n",
      "  warnings.warn(\n",
      "C:\\Users\\Bismarck\\AppData\\Local\\Packages\\PythonSoftwareFoundation.Python.3.9_qbz5n2kfra8p0\\LocalCache\\local-packages\\Python39\\site-packages\\sklearn\\svm\\_base.py:1206: ConvergenceWarning: Liblinear failed to converge, increase the number of iterations.\n",
      "  warnings.warn(\n",
      "C:\\Users\\Bismarck\\AppData\\Local\\Packages\\PythonSoftwareFoundation.Python.3.9_qbz5n2kfra8p0\\LocalCache\\local-packages\\Python39\\site-packages\\sklearn\\svm\\_base.py:1206: ConvergenceWarning: Liblinear failed to converge, increase the number of iterations.\n",
      "  warnings.warn(\n",
      "C:\\Users\\Bismarck\\AppData\\Local\\Packages\\PythonSoftwareFoundation.Python.3.9_qbz5n2kfra8p0\\LocalCache\\local-packages\\Python39\\site-packages\\sklearn\\svm\\_base.py:1206: ConvergenceWarning: Liblinear failed to converge, increase the number of iterations.\n",
      "  warnings.warn(\n",
      "C:\\Users\\Bismarck\\AppData\\Local\\Packages\\PythonSoftwareFoundation.Python.3.9_qbz5n2kfra8p0\\LocalCache\\local-packages\\Python39\\site-packages\\sklearn\\svm\\_base.py:1206: ConvergenceWarning: Liblinear failed to converge, increase the number of iterations.\n",
      "  warnings.warn(\n",
      "C:\\Users\\Bismarck\\AppData\\Local\\Packages\\PythonSoftwareFoundation.Python.3.9_qbz5n2kfra8p0\\LocalCache\\local-packages\\Python39\\site-packages\\sklearn\\svm\\_base.py:1206: ConvergenceWarning: Liblinear failed to converge, increase the number of iterations.\n",
      "  warnings.warn(\n",
      "C:\\Users\\Bismarck\\AppData\\Local\\Packages\\PythonSoftwareFoundation.Python.3.9_qbz5n2kfra8p0\\LocalCache\\local-packages\\Python39\\site-packages\\sklearn\\svm\\_base.py:1206: ConvergenceWarning: Liblinear failed to converge, increase the number of iterations.\n",
      "  warnings.warn(\n",
      "C:\\Users\\Bismarck\\AppData\\Local\\Packages\\PythonSoftwareFoundation.Python.3.9_qbz5n2kfra8p0\\LocalCache\\local-packages\\Python39\\site-packages\\sklearn\\svm\\_base.py:1206: ConvergenceWarning: Liblinear failed to converge, increase the number of iterations.\n",
      "  warnings.warn(\n",
      "C:\\Users\\Bismarck\\AppData\\Local\\Packages\\PythonSoftwareFoundation.Python.3.9_qbz5n2kfra8p0\\LocalCache\\local-packages\\Python39\\site-packages\\sklearn\\svm\\_base.py:1206: ConvergenceWarning: Liblinear failed to converge, increase the number of iterations.\n",
      "  warnings.warn(\n",
      "C:\\Users\\Bismarck\\AppData\\Local\\Packages\\PythonSoftwareFoundation.Python.3.9_qbz5n2kfra8p0\\LocalCache\\local-packages\\Python39\\site-packages\\sklearn\\svm\\_base.py:1206: ConvergenceWarning: Liblinear failed to converge, increase the number of iterations.\n",
      "  warnings.warn(\n",
      "C:\\Users\\Bismarck\\AppData\\Local\\Packages\\PythonSoftwareFoundation.Python.3.9_qbz5n2kfra8p0\\LocalCache\\local-packages\\Python39\\site-packages\\sklearn\\svm\\_base.py:1206: ConvergenceWarning: Liblinear failed to converge, increase the number of iterations.\n",
      "  warnings.warn(\n",
      "C:\\Users\\Bismarck\\AppData\\Local\\Packages\\PythonSoftwareFoundation.Python.3.9_qbz5n2kfra8p0\\LocalCache\\local-packages\\Python39\\site-packages\\sklearn\\svm\\_base.py:1206: ConvergenceWarning: Liblinear failed to converge, increase the number of iterations.\n",
      "  warnings.warn(\n",
      "C:\\Users\\Bismarck\\AppData\\Local\\Packages\\PythonSoftwareFoundation.Python.3.9_qbz5n2kfra8p0\\LocalCache\\local-packages\\Python39\\site-packages\\sklearn\\svm\\_base.py:1206: ConvergenceWarning: Liblinear failed to converge, increase the number of iterations.\n",
      "  warnings.warn(\n",
      "C:\\Users\\Bismarck\\AppData\\Local\\Packages\\PythonSoftwareFoundation.Python.3.9_qbz5n2kfra8p0\\LocalCache\\local-packages\\Python39\\site-packages\\sklearn\\svm\\_base.py:1206: ConvergenceWarning: Liblinear failed to converge, increase the number of iterations.\n",
      "  warnings.warn(\n",
      "C:\\Users\\Bismarck\\AppData\\Local\\Packages\\PythonSoftwareFoundation.Python.3.9_qbz5n2kfra8p0\\LocalCache\\local-packages\\Python39\\site-packages\\sklearn\\svm\\_base.py:1206: ConvergenceWarning: Liblinear failed to converge, increase the number of iterations.\n",
      "  warnings.warn(\n",
      "C:\\Users\\Bismarck\\AppData\\Local\\Packages\\PythonSoftwareFoundation.Python.3.9_qbz5n2kfra8p0\\LocalCache\\local-packages\\Python39\\site-packages\\sklearn\\svm\\_base.py:1206: ConvergenceWarning: Liblinear failed to converge, increase the number of iterations.\n",
      "  warnings.warn(\n",
      "C:\\Users\\Bismarck\\AppData\\Local\\Packages\\PythonSoftwareFoundation.Python.3.9_qbz5n2kfra8p0\\LocalCache\\local-packages\\Python39\\site-packages\\sklearn\\svm\\_base.py:1206: ConvergenceWarning: Liblinear failed to converge, increase the number of iterations.\n",
      "  warnings.warn(\n",
      "C:\\Users\\Bismarck\\AppData\\Local\\Packages\\PythonSoftwareFoundation.Python.3.9_qbz5n2kfra8p0\\LocalCache\\local-packages\\Python39\\site-packages\\sklearn\\svm\\_base.py:1206: ConvergenceWarning: Liblinear failed to converge, increase the number of iterations.\n",
      "  warnings.warn(\n",
      "C:\\Users\\Bismarck\\AppData\\Local\\Packages\\PythonSoftwareFoundation.Python.3.9_qbz5n2kfra8p0\\LocalCache\\local-packages\\Python39\\site-packages\\sklearn\\svm\\_base.py:1206: ConvergenceWarning: Liblinear failed to converge, increase the number of iterations.\n",
      "  warnings.warn(\n",
      "C:\\Users\\Bismarck\\AppData\\Local\\Packages\\PythonSoftwareFoundation.Python.3.9_qbz5n2kfra8p0\\LocalCache\\local-packages\\Python39\\site-packages\\sklearn\\svm\\_base.py:1206: ConvergenceWarning: Liblinear failed to converge, increase the number of iterations.\n",
      "  warnings.warn(\n",
      "C:\\Users\\Bismarck\\AppData\\Local\\Packages\\PythonSoftwareFoundation.Python.3.9_qbz5n2kfra8p0\\LocalCache\\local-packages\\Python39\\site-packages\\sklearn\\svm\\_base.py:1206: ConvergenceWarning: Liblinear failed to converge, increase the number of iterations.\n",
      "  warnings.warn(\n",
      "C:\\Users\\Bismarck\\AppData\\Local\\Packages\\PythonSoftwareFoundation.Python.3.9_qbz5n2kfra8p0\\LocalCache\\local-packages\\Python39\\site-packages\\sklearn\\svm\\_base.py:1206: ConvergenceWarning: Liblinear failed to converge, increase the number of iterations.\n",
      "  warnings.warn(\n",
      "C:\\Users\\Bismarck\\AppData\\Local\\Packages\\PythonSoftwareFoundation.Python.3.9_qbz5n2kfra8p0\\LocalCache\\local-packages\\Python39\\site-packages\\sklearn\\svm\\_base.py:1206: ConvergenceWarning: Liblinear failed to converge, increase the number of iterations.\n",
      "  warnings.warn(\n",
      "C:\\Users\\Bismarck\\AppData\\Local\\Packages\\PythonSoftwareFoundation.Python.3.9_qbz5n2kfra8p0\\LocalCache\\local-packages\\Python39\\site-packages\\sklearn\\svm\\_base.py:1206: ConvergenceWarning: Liblinear failed to converge, increase the number of iterations.\n",
      "  warnings.warn(\n",
      "C:\\Users\\Bismarck\\AppData\\Local\\Packages\\PythonSoftwareFoundation.Python.3.9_qbz5n2kfra8p0\\LocalCache\\local-packages\\Python39\\site-packages\\sklearn\\svm\\_base.py:1206: ConvergenceWarning: Liblinear failed to converge, increase the number of iterations.\n",
      "  warnings.warn(\n",
      "C:\\Users\\Bismarck\\AppData\\Local\\Packages\\PythonSoftwareFoundation.Python.3.9_qbz5n2kfra8p0\\LocalCache\\local-packages\\Python39\\site-packages\\sklearn\\svm\\_base.py:1206: ConvergenceWarning: Liblinear failed to converge, increase the number of iterations.\n",
      "  warnings.warn(\n",
      "C:\\Users\\Bismarck\\AppData\\Local\\Packages\\PythonSoftwareFoundation.Python.3.9_qbz5n2kfra8p0\\LocalCache\\local-packages\\Python39\\site-packages\\sklearn\\svm\\_base.py:1206: ConvergenceWarning: Liblinear failed to converge, increase the number of iterations.\n",
      "  warnings.warn(\n"
     ]
    }
   ],
   "source": [
    "c_values = []\n",
    "accuracies = []\n",
    "c_value = 1e-8\n",
    "alpha = 10\n",
    "i = 0\n",
    "while i < 15:\n",
    "    bigC = c_value * (alpha**i)\n",
    "    model = LinearSVC(C=bigC, multi_class=\"ovr\", penalty=\"l2\", max_iter = 3000)\n",
    "    c_values.append(bigC)\n",
    "    scores = cross_val_score(model, X, Y.values.ravel(), cv=5)\n",
    "    average = sum(scores) / len(scores)\n",
    "    accuracies.append(average)\n",
    "    i = i+1"
   ]
  },
  {
   "cell_type": "code",
   "execution_count": null,
   "id": "52c98784-745a-404d-a0ac-53b6a61f9395",
   "metadata": {
    "id": "52c98784-745a-404d-a0ac-53b6a61f9395",
    "outputId": "053a84bb-1698-4a55-b72e-c4819417ee0b"
   },
   "outputs": [
    {
     "data": {
      "image/png": "[encoded data removed]",
      "text/plain": [
       "<Figure size 432x288 with 1 Axes>"
      ]
     },
     "metadata": {
      "needs_background": "light"
     },
     "output_type": "display_data"
    }
   ],
   "source": [
    "#Plot the data on a graph\n",
    "fix, ax = plt.subplots()\n",
    "ax.set_xlabel(\"C Value\")\n",
    "ax.set_ylabel(\"Accuracy\")\n",
    "ax.set_title(\"Accuracy vs. C Value for Linear SVM\")\n",
    "ax.set_xscale('log')\n",
    "ax.plot(c_values, accuracies, marker='o', label='Train', drawstyle=\"steps-post\")\n",
    "plt.show()"
   ]
  },
  {
   "cell_type": "code",
   "execution_count": null,
   "id": "d8120b35-a799-4529-a06e-0934aec7cee7",
   "metadata": {
    "id": "d8120b35-a799-4529-a06e-0934aec7cee7",
    "outputId": "e943aea2-6e94-4e5d-80b0-714a8c0b0bd6"
   },
   "outputs": [
    {
     "name": "stderr",
     "output_type": "stream",
     "text": [
      "C:\\Users\\Bismarck\\AppData\\Local\\Packages\\PythonSoftwareFoundation.Python.3.9_qbz5n2kfra8p0\\LocalCache\\local-packages\\Python39\\site-packages\\sklearn\\svm\\_base.py:1206: ConvergenceWarning: Liblinear failed to converge, increase the number of iterations.\n",
      "  warnings.warn(\n",
      "C:\\Users\\Bismarck\\AppData\\Local\\Packages\\PythonSoftwareFoundation.Python.3.9_qbz5n2kfra8p0\\LocalCache\\local-packages\\Python39\\site-packages\\sklearn\\svm\\_base.py:1206: ConvergenceWarning: Liblinear failed to converge, increase the number of iterations.\n",
      "  warnings.warn(\n",
      "C:\\Users\\Bismarck\\AppData\\Local\\Packages\\PythonSoftwareFoundation.Python.3.9_qbz5n2kfra8p0\\LocalCache\\local-packages\\Python39\\site-packages\\sklearn\\svm\\_base.py:1206: ConvergenceWarning: Liblinear failed to converge, increase the number of iterations.\n",
      "  warnings.warn(\n",
      "C:\\Users\\Bismarck\\AppData\\Local\\Packages\\PythonSoftwareFoundation.Python.3.9_qbz5n2kfra8p0\\LocalCache\\local-packages\\Python39\\site-packages\\sklearn\\svm\\_base.py:1206: ConvergenceWarning: Liblinear failed to converge, increase the number of iterations.\n",
      "  warnings.warn(\n",
      "C:\\Users\\Bismarck\\AppData\\Local\\Packages\\PythonSoftwareFoundation.Python.3.9_qbz5n2kfra8p0\\LocalCache\\local-packages\\Python39\\site-packages\\sklearn\\svm\\_base.py:1206: ConvergenceWarning: Liblinear failed to converge, increase the number of iterations.\n",
      "  warnings.warn(\n",
      "C:\\Users\\Bismarck\\AppData\\Local\\Packages\\PythonSoftwareFoundation.Python.3.9_qbz5n2kfra8p0\\LocalCache\\local-packages\\Python39\\site-packages\\sklearn\\svm\\_base.py:1206: ConvergenceWarning: Liblinear failed to converge, increase the number of iterations.\n",
      "  warnings.warn(\n",
      "C:\\Users\\Bismarck\\AppData\\Local\\Packages\\PythonSoftwareFoundation.Python.3.9_qbz5n2kfra8p0\\LocalCache\\local-packages\\Python39\\site-packages\\sklearn\\svm\\_base.py:1206: ConvergenceWarning: Liblinear failed to converge, increase the number of iterations.\n",
      "  warnings.warn(\n",
      "C:\\Users\\Bismarck\\AppData\\Local\\Packages\\PythonSoftwareFoundation.Python.3.9_qbz5n2kfra8p0\\LocalCache\\local-packages\\Python39\\site-packages\\sklearn\\svm\\_base.py:1206: ConvergenceWarning: Liblinear failed to converge, increase the number of iterations.\n",
      "  warnings.warn(\n",
      "C:\\Users\\Bismarck\\AppData\\Local\\Packages\\PythonSoftwareFoundation.Python.3.9_qbz5n2kfra8p0\\LocalCache\\local-packages\\Python39\\site-packages\\sklearn\\svm\\_base.py:1206: ConvergenceWarning: Liblinear failed to converge, increase the number of iterations.\n",
      "  warnings.warn(\n",
      "C:\\Users\\Bismarck\\AppData\\Local\\Packages\\PythonSoftwareFoundation.Python.3.9_qbz5n2kfra8p0\\LocalCache\\local-packages\\Python39\\site-packages\\sklearn\\svm\\_base.py:1206: ConvergenceWarning: Liblinear failed to converge, increase the number of iterations.\n",
      "  warnings.warn(\n",
      "C:\\Users\\Bismarck\\AppData\\Local\\Packages\\PythonSoftwareFoundation.Python.3.9_qbz5n2kfra8p0\\LocalCache\\local-packages\\Python39\\site-packages\\sklearn\\svm\\_base.py:1206: ConvergenceWarning: Liblinear failed to converge, increase the number of iterations.\n",
      "  warnings.warn(\n",
      "C:\\Users\\Bismarck\\AppData\\Local\\Packages\\PythonSoftwareFoundation.Python.3.9_qbz5n2kfra8p0\\LocalCache\\local-packages\\Python39\\site-packages\\sklearn\\svm\\_base.py:1206: ConvergenceWarning: Liblinear failed to converge, increase the number of iterations.\n",
      "  warnings.warn(\n",
      "C:\\Users\\Bismarck\\AppData\\Local\\Packages\\PythonSoftwareFoundation.Python.3.9_qbz5n2kfra8p0\\LocalCache\\local-packages\\Python39\\site-packages\\sklearn\\svm\\_base.py:1206: ConvergenceWarning: Liblinear failed to converge, increase the number of iterations.\n",
      "  warnings.warn(\n",
      "C:\\Users\\Bismarck\\AppData\\Local\\Packages\\PythonSoftwareFoundation.Python.3.9_qbz5n2kfra8p0\\LocalCache\\local-packages\\Python39\\site-packages\\sklearn\\svm\\_base.py:1206: ConvergenceWarning: Liblinear failed to converge, increase the number of iterations.\n",
      "  warnings.warn(\n",
      "C:\\Users\\Bismarck\\AppData\\Local\\Packages\\PythonSoftwareFoundation.Python.3.9_qbz5n2kfra8p0\\LocalCache\\local-packages\\Python39\\site-packages\\sklearn\\svm\\_base.py:1206: ConvergenceWarning: Liblinear failed to converge, increase the number of iterations.\n",
      "  warnings.warn(\n",
      "C:\\Users\\Bismarck\\AppData\\Local\\Packages\\PythonSoftwareFoundation.Python.3.9_qbz5n2kfra8p0\\LocalCache\\local-packages\\Python39\\site-packages\\sklearn\\svm\\_base.py:1206: ConvergenceWarning: Liblinear failed to converge, increase the number of iterations.\n",
      "  warnings.warn(\n",
      "C:\\Users\\Bismarck\\AppData\\Local\\Packages\\PythonSoftwareFoundation.Python.3.9_qbz5n2kfra8p0\\LocalCache\\local-packages\\Python39\\site-packages\\sklearn\\svm\\_base.py:1206: ConvergenceWarning: Liblinear failed to converge, increase the number of iterations.\n",
      "  warnings.warn(\n",
      "C:\\Users\\Bismarck\\AppData\\Local\\Packages\\PythonSoftwareFoundation.Python.3.9_qbz5n2kfra8p0\\LocalCache\\local-packages\\Python39\\site-packages\\sklearn\\svm\\_base.py:1206: ConvergenceWarning: Liblinear failed to converge, increase the number of iterations.\n",
      "  warnings.warn(\n",
      "C:\\Users\\Bismarck\\AppData\\Local\\Packages\\PythonSoftwareFoundation.Python.3.9_qbz5n2kfra8p0\\LocalCache\\local-packages\\Python39\\site-packages\\sklearn\\svm\\_base.py:1206: ConvergenceWarning: Liblinear failed to converge, increase the number of iterations.\n",
      "  warnings.warn(\n",
      "C:\\Users\\Bismarck\\AppData\\Local\\Packages\\PythonSoftwareFoundation.Python.3.9_qbz5n2kfra8p0\\LocalCache\\local-packages\\Python39\\site-packages\\sklearn\\svm\\_base.py:1206: ConvergenceWarning: Liblinear failed to converge, increase the number of iterations.\n",
      "  warnings.warn(\n",
      "C:\\Users\\Bismarck\\AppData\\Local\\Packages\\PythonSoftwareFoundation.Python.3.9_qbz5n2kfra8p0\\LocalCache\\local-packages\\Python39\\site-packages\\sklearn\\svm\\_base.py:1206: ConvergenceWarning: Liblinear failed to converge, increase the number of iterations.\n",
      "  warnings.warn(\n",
      "C:\\Users\\Bismarck\\AppData\\Local\\Packages\\PythonSoftwareFoundation.Python.3.9_qbz5n2kfra8p0\\LocalCache\\local-packages\\Python39\\site-packages\\sklearn\\svm\\_base.py:1206: ConvergenceWarning: Liblinear failed to converge, increase the number of iterations.\n",
      "  warnings.warn(\n",
      "C:\\Users\\Bismarck\\AppData\\Local\\Packages\\PythonSoftwareFoundation.Python.3.9_qbz5n2kfra8p0\\LocalCache\\local-packages\\Python39\\site-packages\\sklearn\\svm\\_base.py:1206: ConvergenceWarning: Liblinear failed to converge, increase the number of iterations.\n",
      "  warnings.warn(\n",
      "C:\\Users\\Bismarck\\AppData\\Local\\Packages\\PythonSoftwareFoundation.Python.3.9_qbz5n2kfra8p0\\LocalCache\\local-packages\\Python39\\site-packages\\sklearn\\svm\\_base.py:1206: ConvergenceWarning: Liblinear failed to converge, increase the number of iterations.\n",
      "  warnings.warn(\n",
      "C:\\Users\\Bismarck\\AppData\\Local\\Packages\\PythonSoftwareFoundation.Python.3.9_qbz5n2kfra8p0\\LocalCache\\local-packages\\Python39\\site-packages\\sklearn\\svm\\_base.py:1206: ConvergenceWarning: Liblinear failed to converge, increase the number of iterations.\n",
      "  warnings.warn(\n",
      "C:\\Users\\Bismarck\\AppData\\Local\\Packages\\PythonSoftwareFoundation.Python.3.9_qbz5n2kfra8p0\\LocalCache\\local-packages\\Python39\\site-packages\\sklearn\\svm\\_base.py:1206: ConvergenceWarning: Liblinear failed to converge, increase the number of iterations.\n",
      "  warnings.warn(\n",
      "C:\\Users\\Bismarck\\AppData\\Local\\Packages\\PythonSoftwareFoundation.Python.3.9_qbz5n2kfra8p0\\LocalCache\\local-packages\\Python39\\site-packages\\sklearn\\svm\\_base.py:1206: ConvergenceWarning: Liblinear failed to converge, increase the number of iterations.\n",
      "  warnings.warn(\n",
      "C:\\Users\\Bismarck\\AppData\\Local\\Packages\\PythonSoftwareFoundation.Python.3.9_qbz5n2kfra8p0\\LocalCache\\local-packages\\Python39\\site-packages\\sklearn\\svm\\_base.py:1206: ConvergenceWarning: Liblinear failed to converge, increase the number of iterations.\n",
      "  warnings.warn(\n",
      "C:\\Users\\Bismarck\\AppData\\Local\\Packages\\PythonSoftwareFoundation.Python.3.9_qbz5n2kfra8p0\\LocalCache\\local-packages\\Python39\\site-packages\\sklearn\\svm\\_base.py:1206: ConvergenceWarning: Liblinear failed to converge, increase the number of iterations.\n",
      "  warnings.warn(\n",
      "C:\\Users\\Bismarck\\AppData\\Local\\Packages\\PythonSoftwareFoundation.Python.3.9_qbz5n2kfra8p0\\LocalCache\\local-packages\\Python39\\site-packages\\sklearn\\svm\\_base.py:1206: ConvergenceWarning: Liblinear failed to converge, increase the number of iterations.\n",
      "  warnings.warn(\n",
      "C:\\Users\\Bismarck\\AppData\\Local\\Packages\\PythonSoftwareFoundation.Python.3.9_qbz5n2kfra8p0\\LocalCache\\local-packages\\Python39\\site-packages\\sklearn\\svm\\_base.py:1206: ConvergenceWarning: Liblinear failed to converge, increase the number of iterations.\n",
      "  warnings.warn(\n",
      "C:\\Users\\Bismarck\\AppData\\Local\\Packages\\PythonSoftwareFoundation.Python.3.9_qbz5n2kfra8p0\\LocalCache\\local-packages\\Python39\\site-packages\\sklearn\\svm\\_base.py:1206: ConvergenceWarning: Liblinear failed to converge, increase the number of iterations.\n",
      "  warnings.warn(\n",
      "C:\\Users\\Bismarck\\AppData\\Local\\Packages\\PythonSoftwareFoundation.Python.3.9_qbz5n2kfra8p0\\LocalCache\\local-packages\\Python39\\site-packages\\sklearn\\svm\\_base.py:1206: ConvergenceWarning: Liblinear failed to converge, increase the number of iterations.\n",
      "  warnings.warn(\n",
      "C:\\Users\\Bismarck\\AppData\\Local\\Packages\\PythonSoftwareFoundation.Python.3.9_qbz5n2kfra8p0\\LocalCache\\local-packages\\Python39\\site-packages\\sklearn\\svm\\_base.py:1206: ConvergenceWarning: Liblinear failed to converge, increase the number of iterations.\n",
      "  warnings.warn(\n",
      "C:\\Users\\Bismarck\\AppData\\Local\\Packages\\PythonSoftwareFoundation.Python.3.9_qbz5n2kfra8p0\\LocalCache\\local-packages\\Python39\\site-packages\\sklearn\\svm\\_base.py:1206: ConvergenceWarning: Liblinear failed to converge, increase the number of iterations.\n",
      "  warnings.warn(\n"
     ]
    }
   ],
   "source": [
    "c_values = []\n",
    "accuracies = []\n",
    "c_value = 1e-8\n",
    "alpha = 10\n",
    "i = 0\n",
    "while i < 15:\n",
    "    bigC = c_value * (alpha**i)\n",
    "    model = LinearSVC(C=bigC, multi_class=\"ovr\", penalty=\"l2\", max_iter = 3000)\n",
    "    c_values.append(bigC)\n",
    "    scores = cross_val_score(model, XT, Y.values.ravel(), cv=5)\n",
    "    average = sum(scores) / len(scores)\n",
    "    accuracies.append(average)\n",
    "    i = i+1"
   ]
  },
  {
   "cell_type": "code",
   "execution_count": null,
   "id": "15320c7f-7aed-4bcd-aac2-a6996469b816",
   "metadata": {
    "colab": {
     "base_uri": "https://localhost:8080/",
     "height": 248
    },
    "executionInfo": {
     "elapsed": 18,
     "status": "error",
     "timestamp": 1649128184963,
     "user": {
      "displayName": "Jeet Ajmani",
      "userId": "00397346538869555251"
     },
     "user_tz": 420
    },
    "id": "15320c7f-7aed-4bcd-aac2-a6996469b816",
    "outputId": "52058149-b586-4e70-ab56-19f1d4e5eb5f"
   },
   "outputs": [
    {
     "ename": "NameError",
     "evalue": "ignored",
     "output_type": "error",
     "traceback": [
      "\u001b[0;31m---------------------------------------------------------------------------\u001b[0m",
      "\u001b[0;31mNameError\u001b[0m                                 Traceback (most recent call last)",
      "\u001b[0;32m<ipython-input-1-55a9928ea640>\u001b[0m in \u001b[0;36m<module>\u001b[0;34m()\u001b[0m\n\u001b[1;32m      1\u001b[0m \u001b[0;31m#Plot the data on a graph\u001b[0m\u001b[0;34m\u001b[0m\u001b[0;34m\u001b[0m\u001b[0;34m\u001b[0m\u001b[0m\n\u001b[0;32m----> 2\u001b[0;31m \u001b[0mfix\u001b[0m\u001b[0;34m,\u001b[0m \u001b[0max\u001b[0m \u001b[0;34m=\u001b[0m \u001b[0mplt\u001b[0m\u001b[0;34m.\u001b[0m\u001b[0msubplots\u001b[0m\u001b[0;34m(\u001b[0m\u001b[0;34m)\u001b[0m\u001b[0;34m\u001b[0m\u001b[0;34m\u001b[0m\u001b[0m\n\u001b[0m\u001b[1;32m      3\u001b[0m \u001b[0max\u001b[0m\u001b[0;34m.\u001b[0m\u001b[0mset_xlabel\u001b[0m\u001b[0;34m(\u001b[0m\u001b[0;34m\"C Value\"\u001b[0m\u001b[0;34m)\u001b[0m\u001b[0;34m\u001b[0m\u001b[0;34m\u001b[0m\u001b[0m\n\u001b[1;32m      4\u001b[0m \u001b[0max\u001b[0m\u001b[0;34m.\u001b[0m\u001b[0mset_ylabel\u001b[0m\u001b[0;34m(\u001b[0m\u001b[0;34m\"Accuracy\"\u001b[0m\u001b[0;34m)\u001b[0m\u001b[0;34m\u001b[0m\u001b[0;34m\u001b[0m\u001b[0m\n\u001b[1;32m      5\u001b[0m \u001b[0max\u001b[0m\u001b[0;34m.\u001b[0m\u001b[0mset_title\u001b[0m\u001b[0;34m(\u001b[0m\u001b[0;34m\"Accuracy vs. C Value for Linear SVM\"\u001b[0m\u001b[0;34m)\u001b[0m\u001b[0;34m\u001b[0m\u001b[0;34m\u001b[0m\u001b[0m\n",
      "\u001b[0;31mNameError\u001b[0m: name 'plt' is not defined"
     ]
    }
   ],
   "source": [
    "#Plot the data on a graph\n",
    "fix, ax = plt.subplots()\n",
    "ax.set_xlabel(\"C Value\")\n",
    "ax.set_ylabel(\"Accuracy\")\n",
    "ax.set_title(\"Accuracy vs. C Value for Linear SVM\")\n",
    "ax.set_xscale('log')\n",
    "ax.plot(c_values, accuracies, marker='o', label='Train', drawstyle=\"steps-post\")\n",
    "plt.show()"
   ]
  },
  {
   "cell_type": "markdown",
   "id": "85175cf2-ec75-45e7-8891-c0451829b568",
   "metadata": {
    "id": "85175cf2-ec75-45e7-8891-c0451829b568"
   },
   "source": [
    "# Finished Model"
   ]
  },
  {
   "cell_type": "code",
   "execution_count": null,
   "id": "bcc0b52d-149e-4ea2-a73f-f3f2f422880b",
   "metadata": {
    "id": "bcc0b52d-149e-4ea2-a73f-f3f2f422880b",
    "outputId": "153b541f-44b1-4c41-808e-4449fb1c3ed1"
   },
   "outputs": [
    {
     "name": "stderr",
     "output_type": "stream",
     "text": [
      "C:\\Users\\Bismarck\\AppData\\Local\\Packages\\PythonSoftwareFoundation.Python.3.9_qbz5n2kfra8p0\\LocalCache\\local-packages\\Python39\\site-packages\\sklearn\\utils\\validation.py:993: DataConversionWarning: A column-vector y was passed when a 1d array was expected. Please change the shape of y to (n_samples, ), for example using ravel().\n",
      "  y = column_or_1d(y, warn=True)\n",
      "C:\\Users\\Bismarck\\AppData\\Local\\Packages\\PythonSoftwareFoundation.Python.3.9_qbz5n2kfra8p0\\LocalCache\\local-packages\\Python39\\site-packages\\sklearn\\svm\\_base.py:1206: ConvergenceWarning: Liblinear failed to converge, increase the number of iterations.\n",
      "  warnings.warn(\n"
     ]
    },
    {
     "data": {
      "text/plain": [
       "0.9096774193548387"
      ]
     },
     "execution_count": 18,
     "metadata": {},
     "output_type": "execute_result"
    }
   ],
   "source": [
    "model = LinearSVC(C=1, multi_class=\"ovr\", penalty=\"l2\", max_iter = 3000)\n",
    "model.fit(X_train, y_train)\n",
    "model.score(X_test, y_test)"
   ]
  },
  {
   "cell_type": "code",
   "execution_count": null,
   "id": "c97eeeb7-83e2-422a-aa6b-866c198c4ab2",
   "metadata": {
    "id": "c97eeeb7-83e2-422a-aa6b-866c198c4ab2",
    "outputId": "52acb1a9-cbfe-455b-ca95-583d90cc855f"
   },
   "outputs": [
    {
     "name": "stderr",
     "output_type": "stream",
     "text": [
      "C:\\Users\\Bismarck\\AppData\\Local\\Packages\\PythonSoftwareFoundation.Python.3.9_qbz5n2kfra8p0\\LocalCache\\local-packages\\Python39\\site-packages\\sklearn\\utils\\validation.py:993: DataConversionWarning: A column-vector y was passed when a 1d array was expected. Please change the shape of y to (n_samples, ), for example using ravel().\n",
      "  y = column_or_1d(y, warn=True)\n",
      "C:\\Users\\Bismarck\\AppData\\Local\\Packages\\PythonSoftwareFoundation.Python.3.9_qbz5n2kfra8p0\\LocalCache\\local-packages\\Python39\\site-packages\\sklearn\\svm\\_base.py:1206: ConvergenceWarning: Liblinear failed to converge, increase the number of iterations.\n",
      "  warnings.warn(\n"
     ]
    },
    {
     "data": {
      "text/plain": [
       "0.9145161290322581"
      ]
     },
     "execution_count": 19,
     "metadata": {},
     "output_type": "execute_result"
    }
   ],
   "source": [
    "X = XT\n",
    "Y = YDF\n",
    "X_train, X_test, y_train, y_test = train_test_split(X, Y, test_size=0.2)\n",
    "model.fit(X_train, y_train)\n",
    "model.score(X_test, y_test)"
   ]
  },
  {
   "cell_type": "code",
   "execution_count": null,
   "id": "81214643-94cc-4e5b-963a-cf231107de79",
   "metadata": {
    "id": "81214643-94cc-4e5b-963a-cf231107de79",
    "outputId": "bce22e06-3967-40b6-be6c-bf92432e76d9"
   },
   "outputs": [
    {
     "name": "stdout",
     "output_type": "stream",
     "text": [
      "Optimal number of features : 670\n",
      "(2480, 670)\n",
      "(620, 670)\n",
      "CPU times: total: 3min 8s\n",
      "Wall time: 4min 25s\n"
     ]
    }
   ],
   "source": [
    "%%time\n",
    "#rfecv_clf = svm.SVC(C=0.1, kernel='linear')\n",
    "rfecv_clf = LinearSVC(C=0.1,max_iter=100000000)\n",
    "#cv = RepeatedStratifiedKFold(n_splits=10, n_repeats=20)\n",
    "cv = StratifiedKFold(5)\n",
    "rfecv = RFECV(estimator = rfecv_clf, step = 10, cv = cv, scoring='accuracy', n_jobs=15 )\n",
    "rfetrain=rfecv.fit(X_train, y_train.values.ravel())\n",
    "print('Optimal number of features :', rfecv.n_features_)\n",
    "\n",
    "rfe = RFE(estimator=rfecv_clf, n_features_to_select=rfecv.n_features_, step=1)\n",
    "rfe = rfe.fit(X_train, y_train.values.ravel())\n",
    "\n",
    "rfe_X_train = X_train.loc[:, rfe.get_support()]\n",
    "rfe_X_test = X_test.loc[:, rfe.get_support()]\n",
    "print(rfe_X_train.shape)\n",
    "print(rfe_X_test.shape)"
   ]
  },
  {
   "cell_type": "code",
   "execution_count": null,
   "id": "b6229524-4b68-41a4-bb72-a6e6ee15d2aa",
   "metadata": {
    "id": "b6229524-4b68-41a4-bb72-a6e6ee15d2aa",
    "outputId": "d45d1661-b6c3-4a1e-f4bc-e350df97377d"
   },
   "outputs": [
    {
     "data": {
      "text/plain": [
       "0.9145161290322581"
      ]
     },
     "execution_count": 22,
     "metadata": {},
     "output_type": "execute_result"
    }
   ],
   "source": [
    "model = LinearSVC(C=1, multi_class=\"ovr\", penalty=\"l2\", max_iter = 10000)\n",
    "model.fit(rfe_X_train, y_train.values.ravel())\n",
    "model.score(rfe_X_test, y_test.values.ravel())"
   ]
  }
 ],
 "metadata": {
  "colab": {
   "name": "Seng474FinalCode.ipynb",
   "provenance": []
  },
  "kernelspec": {
   "display_name": "Python 3 (ipykernel)",
   "language": "python",
   "name": "python3"
  },
  "language_info": {
   "codemirror_mode": {
    "name": "ipython",
    "version": 3
   },
   "file_extension": ".py",
   "mimetype": "text/x-python",
   "name": "python",
   "nbconvert_exporter": "python",
   "pygments_lexer": "ipython3",
   "version": "3.9.7"
  }
 },
 "nbformat": 4,
 "nbformat_minor": 5
}
